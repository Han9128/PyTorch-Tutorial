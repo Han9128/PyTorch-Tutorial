{
  "cells": [
    {
      "cell_type": "code",
      "execution_count": 1,
      "metadata": {
        "id": "1shW59Bfnz0v"
      },
      "outputs": [],
      "source": [
        "import numpy as np\n",
        "import pandas as pd\n",
        "import matplotlib.pyplot as plt\n",
        "import torch"
      ]
    },
    {
      "cell_type": "code",
      "execution_count": 2,
      "metadata": {
        "colab": {
          "base_uri": "https://localhost:8080/"
        },
        "id": "GJ2BlqYUoJv4",
        "outputId": "e08f32fd-7634-4b3f-f6aa-aed750911bed"
      },
      "outputs": [
        {
          "output_type": "stream",
          "name": "stdout",
          "text": [
            "1.13.0+cu116\n"
          ]
        }
      ],
      "source": [
        "print(torch.__version__)"
      ]
    },
    {
      "cell_type": "code",
      "execution_count": 3,
      "metadata": {
        "colab": {
          "base_uri": "https://localhost:8080/"
        },
        "id": "pC5qPoWwoXhY",
        "outputId": "f2339a0c-aee4-4913-9a68-69441454b5d5"
      },
      "outputs": [
        {
          "output_type": "execute_result",
          "data": {
            "text/plain": [
              "tensor(7)"
            ]
          },
          "metadata": {},
          "execution_count": 3
        }
      ],
      "source": [
        "# Crreate a 0 dimensional tensor using pytorch\n",
        "scalar = torch.tensor(7)\n",
        "scalar"
      ]
    },
    {
      "cell_type": "code",
      "execution_count": 4,
      "metadata": {
        "colab": {
          "base_uri": "https://localhost:8080/"
        },
        "id": "Kuffkr5Moffg",
        "outputId": "62ad4a42-925c-4152-8a72-b391ff27a00d"
      },
      "outputs": [
        {
          "output_type": "execute_result",
          "data": {
            "text/plain": [
              "0"
            ]
          },
          "metadata": {},
          "execution_count": 4
        }
      ],
      "source": [
        "# Check dimension of scalar\n",
        "scalar.ndim"
      ]
    },
    {
      "cell_type": "code",
      "execution_count": 5,
      "metadata": {
        "colab": {
          "base_uri": "https://localhost:8080/"
        },
        "id": "zNUR5xXXonWP",
        "outputId": "068e884c-4092-4dab-cfbb-d331f595612d"
      },
      "outputs": [
        {
          "output_type": "execute_result",
          "data": {
            "text/plain": [
              "tensor([7])"
            ]
          },
          "metadata": {},
          "execution_count": 5
        }
      ],
      "source": [
        "# create 1 dimensional tensor\n",
        "vector = torch.tensor([7])\n",
        "vector"
      ]
    },
    {
      "cell_type": "code",
      "execution_count": 6,
      "metadata": {
        "colab": {
          "base_uri": "https://localhost:8080/"
        },
        "id": "QbgYDsUao_Ym",
        "outputId": "85f5ef41-b3b2-4129-b37a-8c8bff7ccf43"
      },
      "outputs": [
        {
          "output_type": "execute_result",
          "data": {
            "text/plain": [
              "1"
            ]
          },
          "metadata": {},
          "execution_count": 6
        }
      ],
      "source": [
        "# Check the dimension the vector\n",
        "vector.ndim"
      ]
    },
    {
      "cell_type": "code",
      "execution_count": 7,
      "metadata": {
        "colab": {
          "base_uri": "https://localhost:8080/"
        },
        "id": "79tzGhOopCtX",
        "outputId": "e3260878-b507-4519-dd32-c046b4857fe0"
      },
      "outputs": [
        {
          "output_type": "execute_result",
          "data": {
            "text/plain": [
              "tensor([7, 7])"
            ]
          },
          "metadata": {},
          "execution_count": 7
        }
      ],
      "source": [
        "vector1 = torch.tensor([7,7])\n",
        "vector1"
      ]
    },
    {
      "cell_type": "code",
      "execution_count": 8,
      "metadata": {
        "colab": {
          "base_uri": "https://localhost:8080/"
        },
        "id": "Pzl6QmhfpTau",
        "outputId": "769fd4fb-d4f2-421a-cfd4-edae2aaaf8e5"
      },
      "outputs": [
        {
          "output_type": "execute_result",
          "data": {
            "text/plain": [
              "1"
            ]
          },
          "metadata": {},
          "execution_count": 8
        }
      ],
      "source": [
        "# Check dimension\n",
        "vector1.ndim"
      ]
    },
    {
      "cell_type": "code",
      "execution_count": 9,
      "metadata": {
        "colab": {
          "base_uri": "https://localhost:8080/"
        },
        "id": "9e0hZcdHpXJO",
        "outputId": "c4ecd153-f32e-4a10-a69f-22f71f7ef37a"
      },
      "outputs": [
        {
          "output_type": "execute_result",
          "data": {
            "text/plain": [
              "tensor([[ 7,  8],\n",
              "        [ 9, 90]])"
            ]
          },
          "metadata": {},
          "execution_count": 9
        }
      ],
      "source": [
        "# Create a matrix using torch\n",
        "matrix = torch.tensor([[7,8],[9,90]])\n",
        "matrix"
      ]
    },
    {
      "cell_type": "code",
      "execution_count": 10,
      "metadata": {
        "colab": {
          "base_uri": "https://localhost:8080/"
        },
        "id": "nPjtvXeepmy2",
        "outputId": "722325dd-e97d-4e4f-af59-395f8ff0e52b"
      },
      "outputs": [
        {
          "output_type": "execute_result",
          "data": {
            "text/plain": [
              "2"
            ]
          },
          "metadata": {},
          "execution_count": 10
        }
      ],
      "source": [
        "# Check dimension\n",
        "matrix.ndim"
      ]
    },
    {
      "cell_type": "code",
      "execution_count": 11,
      "metadata": {
        "colab": {
          "base_uri": "https://localhost:8080/"
        },
        "id": "o0tj5D4PprE1",
        "outputId": "7738bc04-616c-4174-da44-07ab38d4ab86"
      },
      "outputs": [
        {
          "output_type": "execute_result",
          "data": {
            "text/plain": [
              "torch.Size([2, 2])"
            ]
          },
          "metadata": {},
          "execution_count": 11
        }
      ],
      "source": [
        "# check shape of the matrix\n",
        "matrix.shape"
      ]
    },
    {
      "cell_type": "code",
      "execution_count": 12,
      "metadata": {
        "colab": {
          "base_uri": "https://localhost:8080/"
        },
        "id": "A-T1yXVmpvdm",
        "outputId": "8899b2b4-e210-407b-c4fa-153bc38370fe"
      },
      "outputs": [
        {
          "output_type": "execute_result",
          "data": {
            "text/plain": [
              "tensor([[[ 2,  5,  4],\n",
              "         [ 9,  0,  8]],\n",
              "\n",
              "        [[ 2,  4,  2],\n",
              "         [ 9,  7,  5]],\n",
              "\n",
              "        [[12,  6,  3],\n",
              "         [ 9,  8,  5]]])"
            ]
          },
          "metadata": {},
          "execution_count": 12
        }
      ],
      "source": [
        "# Create a 3 dimensional tensor \n",
        "tensor3d = torch.tensor([[[2,5,4],[9,0,8]],\n",
        "                         [[2,4,2],[9,7,5]],\n",
        "                         [[12,6,3],[9,8,5]]])\n",
        "tensor3d"
      ]
    },
    {
      "cell_type": "code",
      "execution_count": 13,
      "metadata": {
        "colab": {
          "base_uri": "https://localhost:8080/"
        },
        "id": "8fsaP_G0qlCm",
        "outputId": "61aa2e3d-81e2-4391-b021-ca03e35dd6a6"
      },
      "outputs": [
        {
          "output_type": "execute_result",
          "data": {
            "text/plain": [
              "3"
            ]
          },
          "metadata": {},
          "execution_count": 13
        }
      ],
      "source": [
        "# Check dimension of the 3d tensor\n",
        "tensor3d.ndim"
      ]
    },
    {
      "cell_type": "code",
      "execution_count": 14,
      "metadata": {
        "colab": {
          "base_uri": "https://localhost:8080/"
        },
        "id": "sU4AXg2PqpsF",
        "outputId": "e3315cb3-2106-4637-f88c-7b80477f0931"
      },
      "outputs": [
        {
          "output_type": "execute_result",
          "data": {
            "text/plain": [
              "torch.Size([3, 2, 3])"
            ]
          },
          "metadata": {},
          "execution_count": 14
        }
      ],
      "source": [
        "# check the shape of the 3d tensor\n",
        "tensor3d.shape"
      ]
    },
    {
      "cell_type": "markdown",
      "metadata": {
        "id": "8aw_DXjsrEkV"
      },
      "source": [
        "##### Creating random tensor using pytorch"
      ]
    },
    {
      "cell_type": "code",
      "execution_count": 15,
      "metadata": {
        "colab": {
          "base_uri": "https://localhost:8080/"
        },
        "id": "1JTHrLmqqsS-",
        "outputId": "fa636142-fb20-427c-da75-2e7da81e5d72"
      },
      "outputs": [
        {
          "output_type": "execute_result",
          "data": {
            "text/plain": [
              "tensor([0.2874, 0.6138, 0.3165, 0.2375, 0.0965, 0.5033, 0.2884, 0.8378, 0.3227,\n",
              "        0.7323, 0.0133, 0.6553, 0.1201, 0.0115, 0.0284, 0.9320, 0.9620, 0.4868,\n",
              "        0.7842, 0.1368, 0.0265, 0.8968, 0.4135, 0.6901, 0.5430, 0.8097, 0.2277,\n",
              "        0.4681, 0.1782, 0.2547, 0.2229, 0.7725, 0.4526, 0.3493, 0.1549, 0.0416,\n",
              "        0.2165, 0.0863, 0.3036, 0.0907, 0.9167, 0.8672, 0.2459, 0.5961, 0.7127,\n",
              "        0.1904, 0.1458, 0.5855, 0.3077, 0.6891, 0.3961, 0.1851, 0.4954, 0.6998,\n",
              "        0.6157, 0.6286, 0.2708, 0.4948, 0.3871, 0.0013, 0.6031, 0.2764, 0.5700,\n",
              "        0.1945, 0.9668, 0.1302, 0.0982, 0.5607, 0.6888, 0.5277, 0.3496, 0.1087,\n",
              "        0.8228, 0.0972, 0.5454, 0.8269, 0.8925, 0.8651, 0.8638, 0.0679, 0.7741,\n",
              "        0.4164, 0.7847, 0.6309, 0.8239, 0.4836, 0.1579, 0.8070, 0.4815, 0.4475,\n",
              "        0.7075, 0.7725, 0.2045, 0.5172, 0.0066, 0.2699, 0.4801, 0.0784, 0.0084,\n",
              "        0.8061])"
            ]
          },
          "metadata": {},
          "execution_count": 15
        }
      ],
      "source": [
        "# Crate a random tensor \n",
        "rand_tensor = torch.rand(100)\n",
        "rand_tensor"
      ]
    },
    {
      "cell_type": "code",
      "execution_count": 16,
      "metadata": {
        "colab": {
          "base_uri": "https://localhost:8080/"
        },
        "id": "fDdNsOH1rg6t",
        "outputId": "04811eca-939d-460a-c391-f4571eda7f62"
      },
      "outputs": [
        {
          "output_type": "execute_result",
          "data": {
            "text/plain": [
              "torch.Size([100])"
            ]
          },
          "metadata": {},
          "execution_count": 16
        }
      ],
      "source": [
        "rand_tensor.shape"
      ]
    },
    {
      "cell_type": "code",
      "execution_count": 17,
      "metadata": {
        "colab": {
          "base_uri": "https://localhost:8080/"
        },
        "id": "UAohnEwZrj68",
        "outputId": "1cabb44d-5a7a-4bcc-c389-1b2ddb8f344b"
      },
      "outputs": [
        {
          "output_type": "execute_result",
          "data": {
            "text/plain": [
              "tensor([[0.6576, 0.0265, 0.7723, 0.3511],\n",
              "        [0.5882, 0.3968, 0.8484, 0.2775],\n",
              "        [0.2092, 0.8744, 0.2244, 0.7477]])"
            ]
          },
          "metadata": {},
          "execution_count": 17
        }
      ],
      "source": [
        "# Create a random matrix\n",
        "rand_matrix = torch.rand(3,4)\n",
        "rand_matrix"
      ]
    },
    {
      "cell_type": "code",
      "execution_count": 18,
      "metadata": {
        "colab": {
          "base_uri": "https://localhost:8080/"
        },
        "id": "9Tk83sI7rtVU",
        "outputId": "326aabc5-d5f1-48e8-fc40-98814833f2f1"
      },
      "outputs": [
        {
          "output_type": "execute_result",
          "data": {
            "text/plain": [
              "(torch.Size([3, 4]), 2)"
            ]
          },
          "metadata": {},
          "execution_count": 18
        }
      ],
      "source": [
        "rand_matrix.shape,rand_matrix.ndim"
      ]
    },
    {
      "cell_type": "code",
      "execution_count": 19,
      "metadata": {
        "colab": {
          "base_uri": "https://localhost:8080/"
        },
        "id": "6GD5lZS4rui8",
        "outputId": "d2723124-aa39-45b8-aa66-304547b064d2"
      },
      "outputs": [
        {
          "output_type": "execute_result",
          "data": {
            "text/plain": [
              "tensor([[[0.9350, 0.6954, 0.4342, 0.9926, 0.3578],\n",
              "         [0.2012, 0.1212, 0.4175, 0.9924, 0.5677],\n",
              "         [0.8704, 0.2377, 0.5802, 0.4514, 0.4848],\n",
              "         [0.4413, 0.1665, 0.1929, 0.7821, 0.6093]],\n",
              "\n",
              "        [[0.8314, 0.7806, 0.9227, 0.6498, 0.2424],\n",
              "         [0.8806, 0.0808, 0.0918, 0.7832, 0.9426],\n",
              "         [0.4503, 0.0682, 0.4096, 0.5624, 0.3212],\n",
              "         [0.9729, 0.9171, 0.7665, 0.5525, 0.5853]],\n",
              "\n",
              "        [[0.5139, 0.2751, 0.5701, 0.1909, 0.6666],\n",
              "         [0.1128, 0.4405, 0.5185, 0.9182, 0.8240],\n",
              "         [0.9787, 0.5942, 0.3774, 0.7500, 0.7927],\n",
              "         [0.2338, 0.5202, 0.6339, 0.3510, 0.6315]]])"
            ]
          },
          "metadata": {},
          "execution_count": 19
        }
      ],
      "source": [
        "# Creat a random 3d tensor\n",
        "rand3d_tensor = torch.rand(3,4,5)\n",
        "rand3d_tensor"
      ]
    },
    {
      "cell_type": "markdown",
      "metadata": {
        "id": "Fb-2yfc1sQBs"
      },
      "source": [
        "###### Zeros and ones using torch"
      ]
    },
    {
      "cell_type": "code",
      "execution_count": 20,
      "metadata": {
        "colab": {
          "base_uri": "https://localhost:8080/"
        },
        "id": "yMqakQuMs0is",
        "outputId": "4b0a6d0b-cd36-4ea9-df5f-b92404aa880a"
      },
      "outputs": [
        {
          "output_type": "execute_result",
          "data": {
            "text/plain": [
              "tensor([[[0., 0., 0., 0., 0.],\n",
              "         [0., 0., 0., 0., 0.],\n",
              "         [0., 0., 0., 0., 0.],\n",
              "         [0., 0., 0., 0., 0.]],\n",
              "\n",
              "        [[0., 0., 0., 0., 0.],\n",
              "         [0., 0., 0., 0., 0.],\n",
              "         [0., 0., 0., 0., 0.],\n",
              "         [0., 0., 0., 0., 0.]],\n",
              "\n",
              "        [[0., 0., 0., 0., 0.],\n",
              "         [0., 0., 0., 0., 0.],\n",
              "         [0., 0., 0., 0., 0.],\n",
              "         [0., 0., 0., 0., 0.]]])"
            ]
          },
          "metadata": {},
          "execution_count": 20
        }
      ],
      "source": [
        "# Create a zeros matrix\n",
        "zeros = torch.zeros(3,4,5)\n",
        "zeros"
      ]
    },
    {
      "cell_type": "code",
      "execution_count": 21,
      "metadata": {
        "colab": {
          "base_uri": "https://localhost:8080/"
        },
        "id": "8MA8qhmPs5ij",
        "outputId": "35e56123-4f81-43f5-d8cd-f9b2814e96f0"
      },
      "outputs": [
        {
          "output_type": "execute_result",
          "data": {
            "text/plain": [
              "tensor([[1., 1., 1., 1., 1.],\n",
              "        [1., 1., 1., 1., 1.],\n",
              "        [1., 1., 1., 1., 1.]])"
            ]
          },
          "metadata": {},
          "execution_count": 21
        }
      ],
      "source": [
        "# Create ones using torch\n",
        "ones = torch.ones(3,5)\n",
        "ones"
      ]
    },
    {
      "cell_type": "code",
      "execution_count": 22,
      "metadata": {
        "colab": {
          "base_uri": "https://localhost:8080/"
        },
        "id": "CT2xmdbZs-si",
        "outputId": "67aa0215-7e41-49b0-ea1e-c8706a611eda"
      },
      "outputs": [
        {
          "output_type": "stream",
          "name": "stderr",
          "text": [
            "<ipython-input-22-798caf80e3dd>:2: UserWarning: torch.range is deprecated and will be removed in a future release because its behavior is inconsistent with Python's range builtin. Instead, use torch.arange, which produces values in [start, end).\n",
            "  torch.range(0,20)   # torch.range(start,end,step)\n"
          ]
        },
        {
          "output_type": "execute_result",
          "data": {
            "text/plain": [
              "tensor([ 0.,  1.,  2.,  3.,  4.,  5.,  6.,  7.,  8.,  9., 10., 11., 12., 13.,\n",
              "        14., 15., 16., 17., 18., 19., 20.])"
            ]
          },
          "metadata": {},
          "execution_count": 22
        }
      ],
      "source": [
        "# Create a range of tensor\n",
        "torch.range(0,20)   # torch.range(start,end,step)"
      ]
    },
    {
      "cell_type": "code",
      "execution_count": 23,
      "metadata": {
        "colab": {
          "base_uri": "https://localhost:8080/"
        },
        "id": "F5oiVu04tJPy",
        "outputId": "eaaf6845-0806-4b61-84bd-321d8d1e6faa"
      },
      "outputs": [
        {
          "output_type": "stream",
          "name": "stderr",
          "text": [
            "<ipython-input-23-ca599854ec87>:1: UserWarning: torch.range is deprecated and will be removed in a future release because its behavior is inconsistent with Python's range builtin. Instead, use torch.arange, which produces values in [start, end).\n",
            "  torch.range(1,1000,30)\n"
          ]
        },
        {
          "output_type": "execute_result",
          "data": {
            "text/plain": [
              "tensor([  1.,  31.,  61.,  91., 121., 151., 181., 211., 241., 271., 301., 331.,\n",
              "        361., 391., 421., 451., 481., 511., 541., 571., 601., 631., 661., 691.,\n",
              "        721., 751., 781., 811., 841., 871., 901., 931., 961., 991.])"
            ]
          },
          "metadata": {},
          "execution_count": 23
        }
      ],
      "source": [
        "torch.range(1,1000,30)"
      ]
    },
    {
      "cell_type": "code",
      "execution_count": 24,
      "metadata": {
        "colab": {
          "base_uri": "https://localhost:8080/"
        },
        "id": "LeVrjOhftZ_S",
        "outputId": "a2075f3d-4dcb-4df0-d7ec-ef021d471f08"
      },
      "outputs": [
        {
          "output_type": "execute_result",
          "data": {
            "text/plain": [
              "tensor([ 40,  50,  60,  70,  80,  90, 100, 110, 120, 130, 140, 150, 160, 170,\n",
              "        180, 190, 200, 210, 220, 230, 240, 250, 260, 270, 280, 290, 300, 310,\n",
              "        320, 330, 340, 350, 360, 370, 380, 390, 400, 410, 420, 430, 440, 450,\n",
              "        460, 470, 480, 490, 500, 510, 520, 530, 540, 550, 560, 570, 580, 590,\n",
              "        600, 610, 620, 630, 640, 650, 660, 670, 680, 690, 700, 710, 720, 730,\n",
              "        740, 750, 760, 770, 780, 790, 800, 810, 820, 830, 840, 850, 860, 870,\n",
              "        880, 890, 900, 910, 920, 930, 940, 950, 960, 970, 980, 990])"
            ]
          },
          "metadata": {},
          "execution_count": 24
        }
      ],
      "source": [
        "# also can use arange()\n",
        "torch.arange(40,1000,10)"
      ]
    },
    {
      "cell_type": "markdown",
      "metadata": {
        "id": "zZPZ14PStw6i"
      },
      "source": [
        "#### Tensor datatypes"
      ]
    },
    {
      "cell_type": "code",
      "execution_count": 25,
      "metadata": {
        "colab": {
          "base_uri": "https://localhost:8080/"
        },
        "id": "oZT3GF4ct6Py",
        "outputId": "0ec3b549-685e-47ad-ab6a-d0d695ea2364"
      },
      "outputs": [
        {
          "output_type": "execute_result",
          "data": {
            "text/plain": [
              "tensor([2., 2., 5.])"
            ]
          },
          "metadata": {},
          "execution_count": 25
        }
      ],
      "source": [
        "# Float 32 tensor\n",
        "float_32_tensor = torch.tensor([2.,2.,5.],dtype = None)\n",
        "float_32_tensor"
      ]
    },
    {
      "cell_type": "code",
      "execution_count": 26,
      "metadata": {
        "colab": {
          "base_uri": "https://localhost:8080/"
        },
        "id": "_HHevFDFuFVR",
        "outputId": "43fa19dc-978e-422c-b2aa-ec5cde8ea01b"
      },
      "outputs": [
        {
          "output_type": "execute_result",
          "data": {
            "text/plain": [
              "torch.float32"
            ]
          },
          "metadata": {},
          "execution_count": 26
        }
      ],
      "source": [
        "float_32_tensor.dtype  # defualt is float32 "
      ]
    },
    {
      "cell_type": "code",
      "execution_count": 27,
      "metadata": {
        "colab": {
          "base_uri": "https://localhost:8080/"
        },
        "id": "A5c-g57cuH66",
        "outputId": "2c61a8e4-0698-44b2-9e38-2a0bd81fc403"
      },
      "outputs": [
        {
          "output_type": "execute_result",
          "data": {
            "text/plain": [
              "tensor([1., 6., 8.], dtype=torch.float16)"
            ]
          },
          "metadata": {},
          "execution_count": 27
        }
      ],
      "source": [
        "# Create float 16 dtype tensor\n",
        "float_16_tensor = torch.tensor([1.,6.,8.],dtype = torch.float16)\n",
        "float_16_tensor"
      ]
    },
    {
      "cell_type": "code",
      "execution_count": 28,
      "metadata": {
        "colab": {
          "base_uri": "https://localhost:8080/"
        },
        "id": "NhdJSMiNuhED",
        "outputId": "2255509b-373e-4f59-ba27-37864d254796"
      },
      "outputs": [
        {
          "output_type": "execute_result",
          "data": {
            "text/plain": [
              "tensor([3, 5, 6, 5])"
            ]
          },
          "metadata": {},
          "execution_count": 28
        }
      ],
      "source": [
        "torch.tensor([3,5,6,5],dtype = None  # what datatype\n",
        "                      , device = None # what device is your tensor on\n",
        "                      , requires_grad = False) # whether on not to track gradients"
      ]
    },
    {
      "cell_type": "code",
      "execution_count": 29,
      "metadata": {
        "colab": {
          "base_uri": "https://localhost:8080/"
        },
        "id": "ttUrQMd4wS3y",
        "outputId": "d7605632-588d-4806-ad25-a15a73d9e065"
      },
      "outputs": [
        {
          "output_type": "execute_result",
          "data": {
            "text/plain": [
              "tensor([ 2., 12., 40.])"
            ]
          },
          "metadata": {},
          "execution_count": 29
        }
      ],
      "source": [
        "# Lets do some operation on different datatypes\n",
        "float_16_tensor*float_32_tensor  # It works but keep in mind while training neural network some times operation on different datatype create issue"
      ]
    },
    {
      "cell_type": "markdown",
      "metadata": {
        "id": "wr5tCahoweXB"
      },
      "source": [
        "#### Getting information from tensors"
      ]
    },
    {
      "cell_type": "code",
      "execution_count": 30,
      "metadata": {
        "colab": {
          "base_uri": "https://localhost:8080/"
        },
        "id": "o3spEgRUxKoI",
        "outputId": "945889b7-79d7-425c-f351-2523eb66cad3"
      },
      "outputs": [
        {
          "output_type": "execute_result",
          "data": {
            "text/plain": [
              "tensor([[0.0446, 0.8834, 0.5868],\n",
              "        [0.6084, 0.9763, 0.7573],\n",
              "        [0.7298, 0.3699, 0.6715],\n",
              "        [0.7982, 0.5517, 0.5735]])"
            ]
          },
          "metadata": {},
          "execution_count": 30
        }
      ],
      "source": [
        "some_tensor = torch.rand(4,3)\n",
        "some_tensor"
      ]
    },
    {
      "cell_type": "code",
      "execution_count": 31,
      "metadata": {
        "colab": {
          "base_uri": "https://localhost:8080/"
        },
        "id": "AWaz7y8uxPEn",
        "outputId": "ab0c25cd-c874-4d62-d216-6c413dd96e08"
      },
      "outputs": [
        {
          "output_type": "stream",
          "name": "stdout",
          "text": [
            "Device some_tesor is  on: cpu\n"
          ]
        }
      ],
      "source": [
        "print(\"Device some_tesor is  on:\",some_tensor.device)"
      ]
    },
    {
      "cell_type": "markdown",
      "metadata": {
        "id": "Liflc8zJxZIv"
      },
      "source": [
        "##### Manipulating tensor (tensor operations)"
      ]
    },
    {
      "cell_type": "code",
      "execution_count": 32,
      "metadata": {
        "colab": {
          "base_uri": "https://localhost:8080/"
        },
        "id": "9C_PkVVFx1k_",
        "outputId": "f2229505-1363-436c-c174-e2c8557f00e5"
      },
      "outputs": [
        {
          "output_type": "execute_result",
          "data": {
            "text/plain": [
              "tensor([[ 7,  8],\n",
              "        [ 9, 90]])"
            ]
          },
          "metadata": {},
          "execution_count": 32
        }
      ],
      "source": [
        "matrix"
      ]
    },
    {
      "cell_type": "code",
      "execution_count": 33,
      "metadata": {
        "colab": {
          "base_uri": "https://localhost:8080/"
        },
        "id": "77H4xrk6yFc_",
        "outputId": "63523fca-c340-4b64-a658-f4dcd2bfd9a3"
      },
      "outputs": [
        {
          "output_type": "execute_result",
          "data": {
            "text/plain": [
              "tensor([[ 17,  18],\n",
              "        [ 19, 100]])"
            ]
          },
          "metadata": {},
          "execution_count": 33
        }
      ],
      "source": [
        "# Add 10 to each element\n",
        "matrix + 10"
      ]
    },
    {
      "cell_type": "code",
      "execution_count": 34,
      "metadata": {
        "colab": {
          "base_uri": "https://localhost:8080/"
        },
        "id": "xmS127CuyM-G",
        "outputId": "e48d6190-59f0-4937-b4d9-27306bfdc7c2"
      },
      "outputs": [
        {
          "output_type": "execute_result",
          "data": {
            "text/plain": [
              "tensor([[-3, -2],\n",
              "        [-1, 80]])"
            ]
          },
          "metadata": {},
          "execution_count": 34
        }
      ],
      "source": [
        "# Substract 10 to each element\n",
        "matrix - 10"
      ]
    },
    {
      "cell_type": "code",
      "execution_count": 35,
      "metadata": {
        "colab": {
          "base_uri": "https://localhost:8080/"
        },
        "id": "ZDm8PB7_ySZI",
        "outputId": "df602a23-2f37-4c45-c21c-7db69078a648"
      },
      "outputs": [
        {
          "output_type": "execute_result",
          "data": {
            "text/plain": [
              "tensor([[ 70,  80],\n",
              "        [ 90, 900]])"
            ]
          },
          "metadata": {},
          "execution_count": 35
        }
      ],
      "source": [
        "# Multiply 10 to each element\n",
        "matrix* 10"
      ]
    },
    {
      "cell_type": "code",
      "execution_count": 36,
      "metadata": {
        "colab": {
          "base_uri": "https://localhost:8080/"
        },
        "id": "8YekkeRryZef",
        "outputId": "44d26b56-4a4e-402c-b357-cdf7dcb0a20b"
      },
      "outputs": [
        {
          "output_type": "execute_result",
          "data": {
            "text/plain": [
              "tensor([[0.7000, 0.8000],\n",
              "        [0.9000, 9.0000]])"
            ]
          },
          "metadata": {},
          "execution_count": 36
        }
      ],
      "source": [
        "# divide each element by 10\n",
        "matrix/10"
      ]
    },
    {
      "cell_type": "code",
      "execution_count": 37,
      "metadata": {
        "colab": {
          "base_uri": "https://localhost:8080/"
        },
        "id": "WqiJvu8Zygdn",
        "outputId": "b004884b-47dd-465d-ea65-60f4b77e373a"
      },
      "outputs": [
        {
          "output_type": "execute_result",
          "data": {
            "text/plain": [
              "tensor([[ 17,  18],\n",
              "        [ 19, 100]])"
            ]
          },
          "metadata": {},
          "execution_count": 37
        }
      ],
      "source": [
        "# use built in add function to add \n",
        "torch.add(matrix,10)"
      ]
    },
    {
      "cell_type": "code",
      "execution_count": 38,
      "metadata": {
        "colab": {
          "base_uri": "https://localhost:8080/"
        },
        "id": "pwpCq0WDyrHv",
        "outputId": "1bf1bf33-fd30-47cc-e05b-044dcf40dd56"
      },
      "outputs": [
        {
          "output_type": "execute_result",
          "data": {
            "text/plain": [
              "tensor([[ 70,  80],\n",
              "        [ 90, 900]])"
            ]
          },
          "metadata": {},
          "execution_count": 38
        }
      ],
      "source": [
        "# use built in multiply function to add \n",
        "torch.mul(matrix,10)"
      ]
    },
    {
      "cell_type": "code",
      "execution_count": 39,
      "metadata": {
        "colab": {
          "base_uri": "https://localhost:8080/"
        },
        "id": "gjgSeQF9yxWm",
        "outputId": "5c573b33-4080-4c1c-e7d8-c27c7de9be8a"
      },
      "outputs": [
        {
          "output_type": "execute_result",
          "data": {
            "text/plain": [
              "tensor([[ 121,  776],\n",
              "        [ 873, 8172]])"
            ]
          },
          "metadata": {},
          "execution_count": 39
        }
      ],
      "source": [
        "# Matrix multiplication\n",
        "torch.matmul(matrix,matrix)"
      ]
    },
    {
      "cell_type": "code",
      "execution_count": 40,
      "metadata": {
        "colab": {
          "base_uri": "https://localhost:8080/"
        },
        "id": "-jL2qbyvzFbP",
        "outputId": "ad30d504-58c7-428d-a686-257d6543d9c4"
      },
      "outputs": [
        {
          "output_type": "execute_result",
          "data": {
            "text/plain": [
              "tensor([[ 121,  776],\n",
              "        [ 873, 8172]])"
            ]
          },
          "metadata": {},
          "execution_count": 40
        }
      ],
      "source": [
        "# we can use mm as alias of matmul\n",
        "torch.mm(matrix,matrix)"
      ]
    },
    {
      "cell_type": "code",
      "execution_count": 41,
      "metadata": {
        "colab": {
          "base_uri": "https://localhost:8080/"
        },
        "id": "3VoDetNe0kkd",
        "outputId": "215b285c-756e-4aff-b896-a413ef9e6379"
      },
      "outputs": [
        {
          "output_type": "execute_result",
          "data": {
            "text/plain": [
              "tensor([[ 121,  776],\n",
              "        [ 873, 8172]])"
            ]
          },
          "metadata": {},
          "execution_count": 41
        }
      ],
      "source": [
        "# we can also use @ for matrix multiplication\n",
        "matrix @ matrix"
      ]
    },
    {
      "cell_type": "code",
      "execution_count": 42,
      "metadata": {
        "colab": {
          "base_uri": "https://localhost:8080/"
        },
        "id": "1B0LPqonz3oN",
        "outputId": "1b77ea17-2b4f-47f8-bb18-689c3ea1b757"
      },
      "outputs": [
        {
          "output_type": "stream",
          "name": "stdout",
          "text": [
            "the original matrix is: tensor([[ 7,  8],\n",
            "        [ 9, 90]])\n",
            "the transpose of the matrix is: tensor([[ 7,  9],\n",
            "        [ 8, 90]])\n"
          ]
        }
      ],
      "source": [
        "print(\"the original matrix is:\",matrix)\n",
        "print(\"the transpose of the matrix is:\",matrix.T)"
      ]
    },
    {
      "cell_type": "code",
      "execution_count": 43,
      "metadata": {
        "colab": {
          "base_uri": "https://localhost:8080/"
        },
        "id": "wd2rwmkX0OwO",
        "outputId": "52927759-d3eb-46f3-feb9-bfb10cfb6062"
      },
      "outputs": [
        {
          "output_type": "execute_result",
          "data": {
            "text/plain": [
              "tensor([2.0668e-01, 3.3295e-01, 8.5895e-01, 1.1227e-01, 7.0380e-01, 2.2801e-01,\n",
              "        2.0874e-01, 3.8434e-02, 8.1672e-01, 4.2029e-01, 2.8112e-01, 2.5341e-01,\n",
              "        6.5958e-01, 3.8044e-01, 3.9557e-01, 2.7752e-02, 6.5343e-01, 5.2375e-01,\n",
              "        8.8477e-01, 5.9410e-01, 7.0929e-02, 3.3705e-01, 6.2528e-01, 2.5307e-01,\n",
              "        7.4088e-01, 1.9248e-01, 4.8283e-01, 6.0071e-01, 8.2310e-01, 2.4058e-01,\n",
              "        1.3678e-01, 3.6254e-01, 7.3139e-01, 8.2906e-01, 1.7822e-01, 5.2964e-01,\n",
              "        5.0637e-01, 4.1066e-01, 4.1939e-01, 1.7432e-01, 4.8337e-01, 6.8879e-01,\n",
              "        3.4498e-01, 1.4288e-02, 2.0802e-01, 6.9470e-01, 8.1917e-01, 5.9593e-01,\n",
              "        6.8386e-01, 2.1935e-01, 8.4656e-01, 7.7378e-01, 5.5859e-01, 3.6284e-01,\n",
              "        1.0241e-01, 7.2433e-01, 9.4152e-01, 5.4634e-01, 5.0226e-01, 8.1961e-01,\n",
              "        5.6302e-01, 4.7113e-01, 4.1844e-01, 3.1613e-01, 4.7011e-01, 3.8904e-01,\n",
              "        8.5291e-01, 3.8447e-01, 2.1123e-01, 8.9168e-01, 2.7100e-01, 9.6880e-01,\n",
              "        1.7792e-01, 3.9054e-01, 7.8562e-01, 9.7649e-01, 1.8627e-01, 9.0880e-01,\n",
              "        4.5706e-01, 1.0306e-01, 1.6410e-01, 3.3894e-01, 9.1957e-01, 2.3339e-01,\n",
              "        8.4487e-01, 9.0234e-01, 7.1405e-01, 1.8107e-01, 5.0964e-01, 5.6889e-01,\n",
              "        7.0185e-01, 9.1760e-02, 8.8465e-01, 9.1424e-01, 3.9075e-01, 1.0529e-01,\n",
              "        3.6357e-01, 3.0806e-01, 8.4952e-01, 9.6010e-01, 6.4898e-01, 4.1345e-01,\n",
              "        7.9563e-01, 2.7240e-01, 4.8088e-01, 2.0239e-01, 7.6695e-01, 4.5218e-01,\n",
              "        8.5421e-01, 6.1293e-01, 9.1619e-01, 6.6837e-01, 7.3266e-01, 8.1313e-04,\n",
              "        1.0057e-01, 2.0249e-01, 2.0588e-01, 6.3088e-01, 5.2743e-01, 6.6465e-01,\n",
              "        7.2987e-01, 7.1450e-01, 7.9992e-01, 7.3838e-01, 7.0307e-01, 5.1850e-01,\n",
              "        9.2146e-01, 6.4540e-02, 7.4718e-01, 9.2592e-01, 4.3342e-01, 5.2531e-01,\n",
              "        8.4288e-01, 1.8865e-01, 1.1081e-01, 5.9125e-01, 6.1082e-01, 5.1061e-01,\n",
              "        1.7576e-01, 6.9110e-01, 5.7849e-01, 5.5316e-01, 1.4878e-01, 7.6923e-01,\n",
              "        2.7634e-01, 6.6238e-01, 9.3508e-01, 4.3164e-01, 4.8782e-01, 9.6849e-01,\n",
              "        3.3522e-01, 7.2476e-01, 4.5719e-01, 8.8440e-01, 8.3205e-01, 9.3346e-01,\n",
              "        5.0899e-01, 4.4099e-01, 6.4969e-01, 4.2638e-01, 4.2779e-01, 6.1012e-01,\n",
              "        6.5291e-02, 1.1714e-01, 1.9936e-01, 2.3015e-01, 9.8805e-01, 1.4591e-01,\n",
              "        6.3149e-01, 8.0815e-01, 6.0000e-02, 8.5355e-01, 3.8026e-02, 1.3409e-01,\n",
              "        2.4238e-01, 2.9544e-02, 9.7900e-01, 5.9624e-01, 5.8721e-01, 4.6526e-01,\n",
              "        4.7995e-01, 2.0866e-01, 2.4015e-01, 6.1718e-01, 6.5381e-01, 4.4986e-01,\n",
              "        4.9734e-01, 2.2642e-01, 2.8591e-01, 8.0279e-01, 2.4255e-01, 3.8609e-01,\n",
              "        1.8622e-01, 4.1035e-03, 5.0195e-01, 3.6723e-01, 7.5888e-01, 5.3389e-02,\n",
              "        5.8347e-01, 6.0714e-01, 7.7520e-02, 2.0342e-02, 5.2001e-01, 1.5622e-01,\n",
              "        6.3259e-02, 8.2871e-01, 9.2029e-01, 8.7091e-01, 9.2821e-01, 7.5355e-01,\n",
              "        9.0352e-01, 8.1388e-01, 3.6767e-01, 1.7621e-01, 6.3986e-01, 5.6947e-03,\n",
              "        2.2705e-01, 6.3738e-01, 5.6643e-01, 2.8763e-01, 1.0360e-01, 7.8994e-01,\n",
              "        6.1216e-01, 6.8514e-01, 6.7646e-01, 8.0379e-01, 6.0434e-01, 1.4677e-01,\n",
              "        9.3627e-02, 8.2448e-01, 9.9614e-01, 9.8386e-01, 2.1360e-01, 6.6805e-01,\n",
              "        9.9399e-01, 8.9326e-01, 5.3650e-01, 3.5326e-01, 9.2763e-01, 8.5654e-01,\n",
              "        6.8788e-01, 8.7411e-01, 3.9981e-01, 9.8883e-01, 1.8113e-01, 9.7332e-01,\n",
              "        6.7287e-01, 8.6424e-01, 1.1161e-02, 9.7069e-01, 3.9425e-01, 8.0982e-01,\n",
              "        8.1063e-01, 4.2763e-01, 3.7093e-01, 7.4321e-01, 9.9830e-01, 7.5363e-01,\n",
              "        1.8152e-01, 1.9756e-01, 9.4425e-01, 7.9583e-01, 9.2171e-01, 5.3656e-02,\n",
              "        8.2223e-01, 3.4297e-01, 9.4810e-01, 3.6473e-01, 8.6098e-01, 4.7866e-01,\n",
              "        7.7723e-01, 3.3871e-01, 4.3488e-01, 7.8723e-01, 9.4570e-01, 5.5386e-01,\n",
              "        8.4548e-01, 3.6964e-01, 1.2194e-01, 3.0054e-02, 1.9602e-01, 9.5250e-02,\n",
              "        8.6483e-01, 8.3612e-01, 2.6282e-01, 4.1529e-01, 3.4864e-01, 6.6223e-01,\n",
              "        8.3046e-01, 4.5099e-01, 1.5682e-01, 5.3994e-01, 5.2384e-01, 8.3418e-01,\n",
              "        6.8438e-01, 3.2009e-02, 3.7887e-01, 6.2469e-01, 6.8254e-01, 9.4035e-01,\n",
              "        8.2706e-02, 2.7348e-01, 6.6287e-01, 6.7910e-02, 1.3462e-01, 7.2473e-01,\n",
              "        8.9589e-01, 1.4143e-01, 3.6136e-02, 5.2105e-01, 1.4313e-01, 6.3902e-02,\n",
              "        7.6813e-01, 1.9956e-01, 6.8996e-01, 8.5733e-01, 3.6275e-01, 8.9072e-01,\n",
              "        9.5674e-01, 8.7780e-01, 6.3046e-01, 3.1727e-01, 3.9432e-01, 4.6048e-01,\n",
              "        2.8822e-01, 6.5210e-01, 6.8242e-01, 2.6516e-01, 6.7168e-01, 9.2943e-01,\n",
              "        7.4204e-01, 6.4422e-01, 5.6121e-01, 8.2307e-02, 9.0714e-01, 9.9239e-01,\n",
              "        1.8835e-01, 3.8667e-01, 9.2322e-01, 1.1856e-01, 4.9390e-01, 1.7099e-01,\n",
              "        9.1008e-01, 4.5141e-01, 8.2907e-01, 4.0979e-01, 8.9404e-01, 3.0659e-02,\n",
              "        1.8572e-01, 9.7352e-01, 5.3132e-01, 2.7046e-01, 3.8066e-01, 8.7347e-01,\n",
              "        1.8970e-01, 4.8568e-01, 3.3881e-01, 9.7819e-01, 1.9525e-01, 2.8925e-01,\n",
              "        5.4667e-01, 8.2122e-01, 2.9516e-01, 5.9626e-01, 1.2744e-02, 2.2069e-01,\n",
              "        7.3472e-01, 7.9209e-01, 5.0255e-01, 2.5463e-01, 7.1129e-01, 3.8185e-03,\n",
              "        5.7204e-01, 4.1082e-01, 3.4932e-01, 6.9733e-02, 9.2360e-01, 3.5859e-01,\n",
              "        5.9621e-01, 8.5441e-01, 3.2634e-01, 2.9103e-01, 8.9024e-01, 9.8736e-01,\n",
              "        6.0115e-01, 3.5670e-01, 8.6109e-01, 2.4511e-01, 7.8692e-01, 2.9322e-01,\n",
              "        8.8198e-01, 8.3092e-01, 5.7681e-01, 9.0650e-01, 8.4605e-01, 3.4193e-01,\n",
              "        3.4198e-01, 5.2569e-01, 2.5495e-01, 8.6172e-01, 1.3684e-01, 4.1068e-01,\n",
              "        6.6842e-01, 3.1085e-01, 7.1828e-01, 9.5646e-01, 8.9440e-01, 2.5310e-01,\n",
              "        8.5116e-01, 5.0481e-02, 3.4933e-01, 5.4797e-01, 2.9766e-01, 3.5985e-01,\n",
              "        3.8022e-01, 6.4260e-01, 6.0200e-01, 6.6531e-01, 6.1123e-01, 6.6463e-01,\n",
              "        5.6902e-01, 5.8593e-01, 4.0975e-01, 2.6809e-01, 1.1024e-01, 8.7644e-01,\n",
              "        3.3923e-03, 2.6622e-01, 1.9647e-02, 9.0809e-01, 7.8593e-01, 6.3136e-01,\n",
              "        4.6197e-01, 3.0398e-01, 3.1565e-01, 4.3227e-01, 3.6566e-01, 6.3992e-01,\n",
              "        9.0931e-02, 7.4114e-01, 1.6147e-01, 5.9764e-01, 2.6266e-01, 6.7765e-01,\n",
              "        5.3135e-01, 3.1069e-01, 6.1632e-01, 8.9173e-01, 8.5081e-01, 5.3091e-01,\n",
              "        9.4626e-02, 8.7133e-01, 5.8668e-01, 1.7071e-02, 3.6814e-01, 4.3772e-01,\n",
              "        5.2911e-01, 6.1484e-02, 6.4355e-01, 6.6005e-01, 5.0695e-01, 3.4032e-01,\n",
              "        2.6695e-01, 3.2336e-01, 2.5805e-02, 8.9122e-01, 9.1596e-01, 7.1235e-01,\n",
              "        4.6370e-01, 3.7077e-01, 4.6323e-01, 8.7340e-01, 1.8646e-01, 7.4133e-03,\n",
              "        1.7489e-01, 4.9219e-01, 2.5671e-02, 9.2651e-01, 4.5795e-01, 5.4831e-01,\n",
              "        3.4034e-01, 3.0280e-02, 3.6145e-01, 6.0303e-01, 4.4058e-01, 4.3033e-01,\n",
              "        7.2529e-01, 6.1342e-01, 3.4705e-01, 6.6415e-02, 5.7299e-01, 8.8553e-01,\n",
              "        4.7333e-01, 5.8313e-01, 3.7766e-01, 2.6326e-01, 8.5789e-02, 4.4761e-01,\n",
              "        9.0465e-01, 6.1704e-01, 7.5036e-01, 9.6663e-01, 6.9081e-01, 1.8130e-01,\n",
              "        4.6621e-01, 7.9019e-01, 9.5922e-01, 9.4583e-01, 2.4433e-01, 8.1651e-01,\n",
              "        8.4735e-01, 3.0825e-01, 2.0942e-01, 3.6690e-01, 6.1346e-01, 5.2062e-01,\n",
              "        3.0266e-01, 3.0622e-01, 5.4423e-01, 6.0944e-01, 9.4458e-01, 6.7876e-01,\n",
              "        1.5488e-01, 8.2704e-02, 9.9839e-01, 2.9233e-01, 1.1823e-01, 5.0371e-01,\n",
              "        8.1820e-01, 4.3727e-01, 8.5990e-01, 5.6843e-01, 8.8553e-01, 9.9498e-01,\n",
              "        2.8481e-01, 9.0861e-01, 3.1406e-01, 5.4063e-01, 3.2567e-01, 1.0852e-01,\n",
              "        3.1108e-01, 6.2881e-01, 4.2934e-01, 8.5876e-01, 3.6266e-01, 4.1764e-01,\n",
              "        1.9950e-01, 3.9406e-01, 2.0795e-01, 2.8081e-01, 2.4643e-01, 7.5436e-02,\n",
              "        6.9636e-03, 2.8596e-01, 6.3747e-01, 7.9157e-01, 8.8150e-01, 5.0478e-01,\n",
              "        6.0104e-01, 5.6637e-02, 6.0414e-01, 2.2410e-01, 4.1837e-01, 7.5405e-01,\n",
              "        5.6423e-01, 3.1263e-01, 3.9375e-01, 2.2782e-02, 6.2315e-01, 3.3191e-01,\n",
              "        5.6705e-01, 6.4214e-01, 5.9813e-02, 4.0158e-01, 4.5891e-01, 9.4383e-01,\n",
              "        1.4777e-01, 3.7716e-01, 7.3006e-01, 5.3942e-01, 2.7346e-01, 6.5106e-01,\n",
              "        8.5219e-03, 2.6042e-01, 1.2796e-01, 4.2397e-01, 4.4480e-01, 9.4779e-01,\n",
              "        8.5327e-01, 8.9901e-01, 3.8411e-01, 1.2266e-01, 8.7995e-01, 6.3314e-01,\n",
              "        6.0130e-01, 4.7704e-02, 2.5403e-01, 3.7764e-01, 6.7231e-01, 7.7887e-01,\n",
              "        5.8332e-02, 4.8452e-01, 8.9167e-01, 5.3218e-01, 7.9890e-01, 4.7581e-01,\n",
              "        5.0042e-01, 8.3847e-01, 6.9603e-01, 2.6858e-01, 1.9699e-01, 4.4721e-01,\n",
              "        5.1034e-01, 3.1633e-01, 9.4881e-02, 1.6873e-02, 5.0486e-01, 9.3017e-01,\n",
              "        7.3149e-01, 4.9138e-01, 1.8456e-01, 9.2076e-01, 7.1626e-01, 6.1683e-01,\n",
              "        7.3117e-02, 2.2365e-01, 6.9818e-01, 8.6985e-01, 3.4983e-01, 1.2421e-01,\n",
              "        9.7708e-01, 2.9971e-01, 7.5975e-01, 3.9406e-01, 5.5044e-01, 3.4102e-01,\n",
              "        9.3724e-02, 3.3491e-01, 5.6107e-01, 6.5653e-01, 4.7173e-01, 8.4601e-01,\n",
              "        2.0370e-03, 6.0687e-01, 2.7562e-01, 3.0675e-01, 5.7753e-01, 7.9980e-01,\n",
              "        6.3417e-01, 8.4608e-01, 8.8482e-02, 3.1945e-01, 6.9317e-01, 5.5910e-01,\n",
              "        7.6919e-01, 3.4073e-01, 5.1142e-01, 5.9205e-01, 2.1811e-01, 1.3363e-01,\n",
              "        6.6727e-01, 1.7205e-01, 2.0657e-01, 6.2863e-02, 4.8084e-01, 1.2179e-01,\n",
              "        6.1094e-01, 8.8664e-01, 3.1274e-01, 4.3051e-01, 7.9691e-01, 5.8945e-01,\n",
              "        8.4480e-01, 2.5160e-02, 4.0136e-01, 1.8948e-01, 8.2316e-01, 5.6419e-01,\n",
              "        9.9865e-01, 7.3464e-01, 7.8656e-01, 6.6141e-01, 6.3951e-01, 9.7344e-01,\n",
              "        9.7738e-01, 3.7232e-01, 1.4697e-01, 5.5238e-01, 5.2212e-01, 6.2295e-01,\n",
              "        4.8164e-02, 6.9362e-01, 1.3530e-01, 1.8117e-01, 2.0099e-01, 2.6390e-01,\n",
              "        8.6944e-01, 7.8773e-01, 3.4415e-01, 9.1528e-01, 4.1442e-01, 2.1842e-01,\n",
              "        5.6789e-01, 7.5346e-01, 5.9823e-01, 6.1085e-01, 4.6647e-01, 1.5632e-01,\n",
              "        6.1665e-01, 9.3060e-01, 3.8858e-01, 2.0294e-01, 3.0742e-01, 5.2010e-01,\n",
              "        5.2488e-02, 4.4821e-01, 1.2820e-01, 5.9706e-01, 6.6923e-01, 9.7243e-01,\n",
              "        2.4310e-01, 9.2598e-01, 2.5560e-01, 6.9468e-01, 2.5623e-01, 8.6577e-01,\n",
              "        4.3361e-01, 1.2338e-02, 6.1465e-01, 8.2878e-01, 6.7999e-01, 8.1407e-01,\n",
              "        5.2391e-01, 3.3494e-01, 7.6009e-01, 2.3353e-01, 2.4428e-01, 9.9917e-01,\n",
              "        6.4876e-01, 6.0678e-01, 1.1188e-01, 7.0473e-01, 3.2291e-01, 7.1234e-02,\n",
              "        8.9132e-01, 3.9083e-01, 7.0697e-01, 7.3429e-02, 9.3693e-01, 3.3037e-01,\n",
              "        6.0476e-01, 5.9517e-01, 6.8303e-01, 9.2170e-01, 1.9812e-01, 2.4404e-02,\n",
              "        6.5227e-01, 7.7324e-01, 7.4954e-01, 1.2638e-01, 5.8644e-02, 9.5987e-02,\n",
              "        5.6369e-01, 8.4961e-01, 9.1003e-01, 7.8659e-01, 4.5080e-01, 5.6909e-02,\n",
              "        2.7229e-01, 1.4150e-02, 8.3242e-01, 7.7983e-01, 4.0674e-02, 4.0734e-01,\n",
              "        1.2851e-01, 2.5032e-02, 1.4920e-01, 6.8544e-01, 7.1099e-02, 4.0225e-01,\n",
              "        7.9027e-01, 8.7572e-01, 3.0269e-01, 8.2936e-01, 4.2811e-01, 5.1813e-02,\n",
              "        1.1311e-01, 2.2972e-01, 9.9055e-02, 9.0262e-01, 1.6019e-01, 9.0023e-01,\n",
              "        8.8569e-01, 9.3284e-01, 4.2029e-01, 1.0604e-01, 7.8009e-01, 8.8147e-01,\n",
              "        7.1672e-01, 5.5354e-01, 3.0220e-01, 5.4328e-01, 8.9648e-01, 3.5205e-01,\n",
              "        7.3228e-02, 8.6513e-01, 4.9235e-01, 8.7695e-01, 7.8620e-02, 5.7036e-01,\n",
              "        5.7840e-01, 8.4268e-01, 4.0625e-01, 2.5437e-01, 5.3627e-01, 2.1327e-01,\n",
              "        8.7539e-01, 7.2596e-01, 1.7339e-02, 4.6532e-01, 5.3955e-01, 5.5902e-01,\n",
              "        9.8666e-01, 9.2086e-01, 8.4305e-01, 1.0700e-01, 4.3980e-02, 9.7187e-01,\n",
              "        3.4500e-01, 1.8002e-01, 3.4304e-01, 1.9122e-02, 5.0088e-01, 5.2169e-01,\n",
              "        4.8408e-01, 5.0089e-01, 1.2623e-01, 8.4560e-01, 6.8563e-01, 8.6337e-01,\n",
              "        6.4010e-01, 6.1278e-01, 5.5173e-01, 6.8658e-01, 1.7602e-01, 9.3779e-01,\n",
              "        9.2240e-01, 9.6173e-01, 4.6151e-01, 9.7745e-01, 5.3905e-01, 5.5229e-01,\n",
              "        7.9090e-01, 8.4408e-01, 1.8520e-01, 8.5279e-01, 6.4298e-01, 1.7347e-02,\n",
              "        1.7738e-01, 7.8847e-01, 7.4437e-01, 4.8107e-01, 4.3768e-01, 3.5327e-02,\n",
              "        8.0084e-01, 1.9649e-01, 4.4408e-01, 4.3430e-01, 6.3186e-01, 6.5464e-01,\n",
              "        2.7245e-01, 7.9934e-01, 5.0592e-01, 1.7869e-01, 8.5383e-01, 8.1488e-01,\n",
              "        2.0189e-01, 5.0429e-01, 1.7878e-01, 9.4382e-02, 8.4466e-01, 1.1621e-01,\n",
              "        2.3514e-01, 2.1429e-01, 8.4194e-01, 5.6695e-01, 9.5031e-02, 1.0187e-01,\n",
              "        4.9292e-01, 1.4605e-02, 8.5913e-01, 4.5304e-01, 7.4352e-01, 1.6732e-01,\n",
              "        3.7639e-01, 9.3248e-01, 7.4855e-01, 6.9020e-01, 2.9562e-01, 2.3873e-01,\n",
              "        1.2649e-02, 8.0764e-01, 5.1145e-01, 6.8186e-01, 5.6584e-01, 6.3747e-01,\n",
              "        1.2109e-01, 2.3579e-01, 5.3974e-01, 1.7464e-01, 1.1510e-01, 7.4333e-01,\n",
              "        6.7747e-01, 9.9685e-01, 7.4376e-01, 1.9006e-01, 5.5457e-01, 5.1945e-01,\n",
              "        6.6662e-01, 9.2755e-02, 8.4002e-01, 9.8171e-01, 4.8788e-01, 7.5953e-01,\n",
              "        7.8896e-01, 6.9279e-01, 3.2913e-01, 7.5322e-01, 9.4737e-02, 9.3979e-01,\n",
              "        2.2001e-01, 3.2273e-01, 5.8199e-02, 6.3999e-01, 1.3425e-01, 8.5674e-01,\n",
              "        4.7304e-01, 3.0175e-01, 2.6429e-01, 5.9865e-01, 6.9153e-01, 2.8097e-01,\n",
              "        4.2489e-01, 9.1736e-01, 6.3537e-01, 5.8934e-01, 4.3075e-01, 4.1543e-01,\n",
              "        3.9850e-01, 5.1542e-01, 9.4286e-01, 6.9633e-01, 8.1322e-01, 4.3531e-01,\n",
              "        7.1677e-01, 3.4059e-02, 8.5542e-01, 5.5357e-01, 3.4014e-01, 5.9751e-01,\n",
              "        3.9292e-01, 4.3691e-01, 4.4050e-02, 1.8090e-01, 6.9609e-01, 4.5911e-01,\n",
              "        9.8023e-01, 9.9341e-01, 5.6606e-01, 1.3266e-01, 7.0359e-01, 1.6947e-01,\n",
              "        7.3589e-01, 4.0482e-01, 5.1545e-01, 7.9802e-01, 1.1080e-01, 1.8576e-01,\n",
              "        5.7621e-01, 9.7627e-01, 1.8485e-01, 5.5120e-01, 5.1365e-02, 6.7124e-01,\n",
              "        9.9207e-01, 5.2482e-01, 5.4705e-01, 7.7442e-01, 2.0967e-01, 2.7271e-01,\n",
              "        8.6664e-02, 5.3392e-01, 7.8071e-01, 6.5197e-01, 9.1366e-01, 9.2164e-01,\n",
              "        9.1404e-01, 1.1155e-01, 6.7348e-01, 8.1793e-01])"
            ]
          },
          "metadata": {},
          "execution_count": 43
        }
      ],
      "source": [
        "# Create a large tensor\n",
        "large_tensor = torch.rand(1000)\n",
        "large_tensor"
      ]
    },
    {
      "cell_type": "code",
      "execution_count": 44,
      "metadata": {
        "colab": {
          "base_uri": "https://localhost:8080/"
        },
        "id": "7QZ0u4e-09mN",
        "outputId": "93703338-1c4a-4ae2-c040-4e2dcba55776"
      },
      "outputs": [
        {
          "output_type": "execute_result",
          "data": {
            "text/plain": [
              "tensor(0.0008)"
            ]
          },
          "metadata": {},
          "execution_count": 44
        }
      ],
      "source": [
        "# Find the minimum value\n",
        "large_tensor.min()"
      ]
    },
    {
      "cell_type": "code",
      "execution_count": 45,
      "metadata": {
        "colab": {
          "base_uri": "https://localhost:8080/"
        },
        "id": "6-58VNtE1E4N",
        "outputId": "62ff7dab-02ad-4952-d39f-64eb80db6af4"
      },
      "outputs": [
        {
          "output_type": "execute_result",
          "data": {
            "text/plain": [
              "tensor(0.9992)"
            ]
          },
          "metadata": {},
          "execution_count": 45
        }
      ],
      "source": [
        "# find the maximum value\n",
        "large_tensor.max()"
      ]
    },
    {
      "cell_type": "code",
      "execution_count": 46,
      "metadata": {
        "colab": {
          "base_uri": "https://localhost:8080/"
        },
        "id": "m0vn1Bw01Joe",
        "outputId": "1986bb92-903b-457a-d308-5421ac8d4e5c"
      },
      "outputs": [
        {
          "output_type": "execute_result",
          "data": {
            "text/plain": [
              "tensor(506.5600)"
            ]
          },
          "metadata": {},
          "execution_count": 46
        }
      ],
      "source": [
        "# Find the sum of elements\n",
        "large_tensor.sum()"
      ]
    },
    {
      "cell_type": "code",
      "execution_count": 47,
      "metadata": {
        "colab": {
          "base_uri": "https://localhost:8080/"
        },
        "id": "SnUgv2bQ1OsW",
        "outputId": "b13bc2ce-ac53-4886-ecf1-740a72457b6b"
      },
      "outputs": [
        {
          "output_type": "execute_result",
          "data": {
            "text/plain": [
              "tensor(0.5066)"
            ]
          },
          "metadata": {},
          "execution_count": 47
        }
      ],
      "source": [
        "# Find the mean of the tensor\n",
        "large_tensor.mean()"
      ]
    },
    {
      "cell_type": "code",
      "execution_count": 48,
      "metadata": {
        "colab": {
          "base_uri": "https://localhost:8080/"
        },
        "id": "M2GSW6um1T80",
        "outputId": "a828799b-c6ec-4fbb-f990-80ddcd3adac2"
      },
      "outputs": [
        {
          "output_type": "execute_result",
          "data": {
            "text/plain": [
              "tensor([  1,  11,  21,  31,  41,  51,  61,  71,  81,  91, 101, 111, 121, 131,\n",
              "        141, 151, 161, 171, 181, 191, 201, 211, 221, 231, 241, 251, 261, 271,\n",
              "        281, 291, 301, 311, 321, 331, 341, 351, 361, 371, 381, 391, 401, 411,\n",
              "        421, 431, 441, 451, 461, 471, 481, 491, 501, 511, 521, 531, 541, 551,\n",
              "        561, 571, 581, 591, 601, 611, 621, 631, 641, 651, 661, 671, 681, 691,\n",
              "        701, 711, 721, 731, 741, 751, 761, 771, 781, 791, 801, 811, 821, 831,\n",
              "        841, 851, 861, 871, 881, 891, 901, 911, 921, 931, 941, 951, 961, 971,\n",
              "        981, 991])"
            ]
          },
          "metadata": {},
          "execution_count": 48
        }
      ],
      "source": [
        "# Creat an int dtype tensor and apply those functions\n",
        "int_large_tensor = torch.arange(1,1000,10)\n",
        "int_large_tensor"
      ]
    },
    {
      "cell_type": "code",
      "execution_count": 49,
      "metadata": {
        "colab": {
          "base_uri": "https://localhost:8080/"
        },
        "id": "B_ZbnyAe1ue9",
        "outputId": "c86f13f6-7e92-44ad-c71f-66f5f71a24c1"
      },
      "outputs": [
        {
          "output_type": "execute_result",
          "data": {
            "text/plain": [
              "torch.int64"
            ]
          },
          "metadata": {},
          "execution_count": 49
        }
      ],
      "source": [
        "int_large_tensor.dtype"
      ]
    },
    {
      "cell_type": "code",
      "execution_count": 50,
      "metadata": {
        "colab": {
          "base_uri": "https://localhost:8080/"
        },
        "id": "atgr0Djp13G0",
        "outputId": "e207d7b7-2bec-43c1-d69a-3d18652b641f"
      },
      "outputs": [
        {
          "output_type": "execute_result",
          "data": {
            "text/plain": [
              "tensor(1)"
            ]
          },
          "metadata": {},
          "execution_count": 50
        }
      ],
      "source": [
        "# Find the minimum value\n",
        "int_large_tensor.min()"
      ]
    },
    {
      "cell_type": "code",
      "execution_count": 51,
      "metadata": {
        "colab": {
          "base_uri": "https://localhost:8080/"
        },
        "id": "YY096cIj2Gzd",
        "outputId": "93ae973a-207f-470f-c1d0-1b98259486b9"
      },
      "outputs": [
        {
          "output_type": "execute_result",
          "data": {
            "text/plain": [
              "tensor(991)"
            ]
          },
          "metadata": {},
          "execution_count": 51
        }
      ],
      "source": [
        "# find the maximum value\n",
        "int_large_tensor.max()"
      ]
    },
    {
      "cell_type": "code",
      "execution_count": 52,
      "metadata": {
        "colab": {
          "base_uri": "https://localhost:8080/"
        },
        "id": "GrnHGFX62Lm1",
        "outputId": "5d2ab81d-96b4-4a8c-df07-a59d7d0556b1"
      },
      "outputs": [
        {
          "output_type": "execute_result",
          "data": {
            "text/plain": [
              "tensor(49600)"
            ]
          },
          "metadata": {},
          "execution_count": 52
        }
      ],
      "source": [
        "# Find the sum of elements\n",
        "int_large_tensor.sum()"
      ]
    },
    {
      "cell_type": "code",
      "execution_count": 54,
      "metadata": {
        "colab": {
          "base_uri": "https://localhost:8080/",
          "height": 205
        },
        "id": "nBIy9mWV2Ox9",
        "outputId": "5d0dafd2-11fc-4d63-c534-e39dbd301588"
      },
      "outputs": [
        {
          "output_type": "error",
          "ename": "RuntimeError",
          "evalue": "ignored",
          "traceback": [
            "\u001b[0;31m---------------------------------------------------------------------------\u001b[0m",
            "\u001b[0;31mRuntimeError\u001b[0m                              Traceback (most recent call last)",
            "\u001b[0;32m<ipython-input-54-f67fb9ac39f8>\u001b[0m in \u001b[0;36m<module>\u001b[0;34m\u001b[0m\n\u001b[1;32m      1\u001b[0m \u001b[0;31m# Find the mean of the tensor\u001b[0m\u001b[0;34m\u001b[0m\u001b[0;34m\u001b[0m\u001b[0;34m\u001b[0m\u001b[0m\n\u001b[0;32m----> 2\u001b[0;31m \u001b[0mint_large_tensor\u001b[0m\u001b[0;34m.\u001b[0m\u001b[0mmean\u001b[0m\u001b[0;34m(\u001b[0m\u001b[0;34m)\u001b[0m  \u001b[0;31m# oah why this error?\u001b[0m\u001b[0;34m\u001b[0m\u001b[0;34m\u001b[0m\u001b[0m\n\u001b[0m",
            "\u001b[0;31mRuntimeError\u001b[0m: mean(): could not infer output dtype. Input dtype must be either a floating point or complex dtype. Got: Long"
          ]
        }
      ],
      "source": [
        "# Find the mean of the tensor\n",
        "int_large_tensor.mean()  # oah why this error?"
      ]
    },
    {
      "cell_type": "markdown",
      "metadata": {
        "id": "IlA4kHTf2R9l"
      },
      "source": [
        "#### It looks like mean() function works for float and complex dtype only but it got int (Long) dtype"
      ]
    },
    {
      "cell_type": "code",
      "execution_count": null,
      "metadata": {
        "id": "7gHdJQ1D2idM"
      },
      "outputs": [],
      "source": [
        "# Lets change the dtype of the tensor try that function\n",
        "int_large_tensor.type(torch.float32).mean()"
      ]
    },
    {
      "cell_type": "markdown",
      "metadata": {
        "id": "_u2h8-Qk2uf8"
      },
      "source": [
        "#### Finding positional max and positional min "
      ]
    },
    {
      "cell_type": "code",
      "execution_count": null,
      "metadata": {
        "id": "aXPMFUbp3Hqj"
      },
      "outputs": [],
      "source": [
        "large_tensor"
      ]
    },
    {
      "cell_type": "code",
      "execution_count": null,
      "metadata": {
        "id": "9r7pC-BM3Kak"
      },
      "outputs": [],
      "source": [
        "# Find the index of max number in the tensor\n",
        "torch.argmax(large_tensor),large_tensor.argmax()"
      ]
    },
    {
      "cell_type": "code",
      "execution_count": 55,
      "metadata": {
        "colab": {
          "base_uri": "https://localhost:8080/"
        },
        "id": "JUl5dSv63UQ6",
        "outputId": "a6f2b207-7770-4956-b46e-51f6380fc72d"
      },
      "outputs": [
        {
          "output_type": "execute_result",
          "data": {
            "text/plain": [
              "(tensor(113), tensor(113))"
            ]
          },
          "metadata": {},
          "execution_count": 55
        }
      ],
      "source": [
        "# Find the index of min number in the tensor\n",
        "torch.argmin(large_tensor),large_tensor.argmin()"
      ]
    },
    {
      "cell_type": "markdown",
      "metadata": {
        "id": "8a7Ww_DU3bKb"
      },
      "source": [
        "#### Reshaping,stacking,squeezing and unsqueezing tensor"
      ]
    },
    {
      "cell_type": "code",
      "execution_count": 56,
      "metadata": {
        "colab": {
          "base_uri": "https://localhost:8080/"
        },
        "id": "jn3WEvs54Nxb",
        "outputId": "1018e116-7e46-4c10-8309-8f7d0875e548"
      },
      "outputs": [
        {
          "output_type": "execute_result",
          "data": {
            "text/plain": [
              "tensor([10, 15, 20, 25, 30, 35, 40, 45, 50, 55, 60, 65, 70, 75, 80, 85, 90, 95])"
            ]
          },
          "metadata": {},
          "execution_count": 56
        }
      ],
      "source": [
        "x = torch.arange(10,100,5)\n",
        "x"
      ]
    },
    {
      "cell_type": "code",
      "execution_count": 57,
      "metadata": {
        "colab": {
          "base_uri": "https://localhost:8080/"
        },
        "id": "tc_j2dIq4rLh",
        "outputId": "18445511-ca19-4d66-9418-024e14b1872c"
      },
      "outputs": [
        {
          "output_type": "execute_result",
          "data": {
            "text/plain": [
              "torch.Size([18])"
            ]
          },
          "metadata": {},
          "execution_count": 57
        }
      ],
      "source": [
        "x.shape"
      ]
    },
    {
      "cell_type": "code",
      "execution_count": 58,
      "metadata": {
        "colab": {
          "base_uri": "https://localhost:8080/"
        },
        "id": "-Wu90qTj4tMR",
        "outputId": "93e6dc4c-034d-4f9c-fd03-ccaa68cbf143"
      },
      "outputs": [
        {
          "output_type": "execute_result",
          "data": {
            "text/plain": [
              "tensor([[10, 15, 20],\n",
              "        [25, 30, 35],\n",
              "        [40, 45, 50],\n",
              "        [55, 60, 65],\n",
              "        [70, 75, 80],\n",
              "        [85, 90, 95]])"
            ]
          },
          "metadata": {},
          "execution_count": 58
        }
      ],
      "source": [
        "# Reshape x\n",
        "x.reshape(6,3)"
      ]
    },
    {
      "cell_type": "code",
      "execution_count": 59,
      "metadata": {
        "colab": {
          "base_uri": "https://localhost:8080/"
        },
        "id": "2MhH2-wj4xdB",
        "outputId": "49c1e06b-6ca6-4f2e-fa67-ce6d7d0b341b"
      },
      "outputs": [
        {
          "output_type": "execute_result",
          "data": {
            "text/plain": [
              "tensor([[10, 15, 20],\n",
              "        [25, 30, 35],\n",
              "        [40, 45, 50],\n",
              "        [55, 60, 65],\n",
              "        [70, 75, 80],\n",
              "        [85, 90, 95]])"
            ]
          },
          "metadata": {},
          "execution_count": 59
        }
      ],
      "source": [
        "# change the view\n",
        "z = x.view(6,3) # view is same as reshape but this shares the memory\n",
        "z"
      ]
    },
    {
      "cell_type": "code",
      "execution_count": 60,
      "metadata": {
        "colab": {
          "base_uri": "https://localhost:8080/"
        },
        "id": "CHuyEzzZ5Q9x",
        "outputId": "078a2ba1-d4de-4320-f9b6-2622bd9bd5b0"
      },
      "outputs": [
        {
          "output_type": "execute_result",
          "data": {
            "text/plain": [
              "tensor([-15, -15, -15,  25,  30,  35,  40,  45,  50,  55,  60,  65,  70,  75,\n",
              "         80,  85,  90,  95])"
            ]
          },
          "metadata": {},
          "execution_count": 60
        }
      ],
      "source": [
        "# changing z changes x\n",
        "z[0] = -15\n",
        "x  # see -15 is appearing in x"
      ]
    },
    {
      "cell_type": "code",
      "execution_count": 61,
      "metadata": {
        "colab": {
          "base_uri": "https://localhost:8080/"
        },
        "id": "8OFLN-bz5edR",
        "outputId": "6e875f7d-8c32-42e8-bef4-5a4467d625c1"
      },
      "outputs": [
        {
          "output_type": "execute_result",
          "data": {
            "text/plain": [
              "(tensor([[[-15, -15, -15],\n",
              "          [ 25,  30,  35],\n",
              "          [ 40,  45,  50],\n",
              "          [ 55,  60,  65],\n",
              "          [ 70,  75,  80],\n",
              "          [ 85,  90,  95]],\n",
              " \n",
              "         [[-15, -15, -15],\n",
              "          [ 25,  30,  35],\n",
              "          [ 40,  45,  50],\n",
              "          [ 55,  60,  65],\n",
              "          [ 70,  75,  80],\n",
              "          [ 85,  90,  95]],\n",
              " \n",
              "         [[-15, -15, -15],\n",
              "          [ 25,  30,  35],\n",
              "          [ 40,  45,  50],\n",
              "          [ 55,  60,  65],\n",
              "          [ 70,  75,  80],\n",
              "          [ 85,  90,  95]],\n",
              " \n",
              "         [[-15, -15, -15],\n",
              "          [ 25,  30,  35],\n",
              "          [ 40,  45,  50],\n",
              "          [ 55,  60,  65],\n",
              "          [ 70,  75,  80],\n",
              "          [ 85,  90,  95]]]), 3)"
            ]
          },
          "metadata": {},
          "execution_count": 61
        }
      ],
      "source": [
        "# stack tensors on top of each other\n",
        "z_stacked = torch.stack([z,z,z,z],dim = 0)\n",
        "z_stacked,z_stacked.ndim"
      ]
    },
    {
      "cell_type": "code",
      "execution_count": 62,
      "metadata": {
        "id": "6m8LL_bJ550x"
      },
      "outputs": [],
      "source": [
        "# troch.squeeze() removes all single dimensions form tensor\n",
        "z_reshaped = z.reshape(1,6,3)"
      ]
    },
    {
      "cell_type": "code",
      "execution_count": 63,
      "metadata": {
        "colab": {
          "base_uri": "https://localhost:8080/"
        },
        "id": "dywQW0s87Udf",
        "outputId": "eb9e59b4-229c-4194-8a33-f454447ef9ab"
      },
      "outputs": [
        {
          "output_type": "execute_result",
          "data": {
            "text/plain": [
              "torch.Size([1, 6, 3])"
            ]
          },
          "metadata": {},
          "execution_count": 63
        }
      ],
      "source": [
        "z_reshaped.shape"
      ]
    },
    {
      "cell_type": "code",
      "execution_count": 64,
      "metadata": {
        "id": "RVSvs5tl7fB3"
      },
      "outputs": [],
      "source": [
        "# remove single dimesnion form z\n",
        "z_squeezed = z.squeeze()"
      ]
    },
    {
      "cell_type": "code",
      "execution_count": 65,
      "metadata": {
        "colab": {
          "base_uri": "https://localhost:8080/"
        },
        "id": "MHiET8d17wDv",
        "outputId": "4199908d-37bb-418b-e943-e774d5d1d7a6"
      },
      "outputs": [
        {
          "output_type": "execute_result",
          "data": {
            "text/plain": [
              "torch.Size([6, 3])"
            ]
          },
          "metadata": {},
          "execution_count": 65
        }
      ],
      "source": [
        "z_squeezed.shape  # See single dimension has been removed"
      ]
    },
    {
      "cell_type": "code",
      "execution_count": 66,
      "metadata": {
        "colab": {
          "base_uri": "https://localhost:8080/"
        },
        "id": "H-vpjR1871pP",
        "outputId": "fddd4fb2-d6a0-44c7-f510-5721809a6143"
      },
      "outputs": [
        {
          "output_type": "execute_result",
          "data": {
            "text/plain": [
              "(tensor([[[-15, -15, -15],\n",
              "          [ 25,  30,  35],\n",
              "          [ 40,  45,  50],\n",
              "          [ 55,  60,  65],\n",
              "          [ 70,  75,  80],\n",
              "          [ 85,  90,  95]]]), torch.Size([1, 6, 3]))"
            ]
          },
          "metadata": {},
          "execution_count": 66
        }
      ],
      "source": [
        "# torch.unsqueeze() add a single dimension to target tensor at desired diemsnion\n",
        "z_unsqueezed = z_squeezed.unsqueeze(dim = 0)\n",
        "z_unsqueezed,z_unsqueezed.shape"
      ]
    },
    {
      "cell_type": "code",
      "execution_count": 67,
      "metadata": {
        "colab": {
          "base_uri": "https://localhost:8080/"
        },
        "id": "Ip0QJPFu8jpX",
        "outputId": "b1f97c52-9e6e-4495-8e45-82ddd349b3d5"
      },
      "outputs": [
        {
          "output_type": "execute_result",
          "data": {
            "text/plain": [
              "(tensor([[[-15, -15, -15]],\n",
              " \n",
              "         [[ 25,  30,  35]],\n",
              " \n",
              "         [[ 40,  45,  50]],\n",
              " \n",
              "         [[ 55,  60,  65]],\n",
              " \n",
              "         [[ 70,  75,  80]],\n",
              " \n",
              "         [[ 85,  90,  95]]]), torch.Size([6, 1, 3]))"
            ]
          },
          "metadata": {},
          "execution_count": 67
        }
      ],
      "source": [
        "z_unsqueezed = z_squeezed.unsqueeze(dim = 1)\n",
        "z_unsqueezed,z_unsqueezed.shape"
      ]
    },
    {
      "cell_type": "code",
      "execution_count": 68,
      "metadata": {
        "colab": {
          "base_uri": "https://localhost:8080/"
        },
        "id": "bn26AIXG89Nm",
        "outputId": "62e1331d-8688-4d34-eaf6-6d55c2ae6673"
      },
      "outputs": [
        {
          "output_type": "stream",
          "name": "stdout",
          "text": [
            "The shape of original tensor is: torch.Size([224, 228, 3])\n",
            "The shape of permuted tensor is:torch.Size([3, 224, 228])\n"
          ]
        }
      ],
      "source": [
        "# torch.permute rearrange the rarrange the dimension of target tensor in specified order\n",
        "X_original = torch.rand(size=(224,228,3))\n",
        "X_permuted = X_original.permute(2,0,1)  # Shifts axis 0 -> 1, 1->2, and 2->0. Remember it refers to same memory so any change in either will appear in both\n",
        "print(f\"The shape of original tensor is: {X_original.shape}\")\n",
        "print(f\"The shape of permuted tensor is:{X_permuted.shape}\")"
      ]
    },
    {
      "cell_type": "code",
      "execution_count": 69,
      "metadata": {
        "colab": {
          "base_uri": "https://localhost:8080/"
        },
        "id": "Rz5keCJK3TW8",
        "outputId": "a4114abb-66a3-485c-9615-fde8dd8e2d0f"
      },
      "outputs": [
        {
          "output_type": "execute_result",
          "data": {
            "text/plain": [
              "(tensor(2435.), tensor(2435.))"
            ]
          },
          "metadata": {},
          "execution_count": 69
        }
      ],
      "source": [
        "X_original[0,0,0] = 2435\n",
        "X_original[0,0,0],X_permuted[0,0,0]"
      ]
    },
    {
      "cell_type": "markdown",
      "metadata": {
        "id": "Y-eGBoaH5FOg"
      },
      "source": [
        "##### Indexing in pytorch\n",
        "Indexing in pytorch is the same as in numpy"
      ]
    },
    {
      "cell_type": "code",
      "execution_count": 70,
      "metadata": {
        "colab": {
          "base_uri": "https://localhost:8080/"
        },
        "id": "s_0GjJoxC0hf",
        "outputId": "7f0ef3f6-fa92-43fb-a6dd-3014d97a6729"
      },
      "outputs": [
        {
          "output_type": "execute_result",
          "data": {
            "text/plain": [
              "tensor([[0, 1, 2, 3, 4],\n",
              "        [5, 6, 7, 8, 9]])"
            ]
          },
          "metadata": {},
          "execution_count": 70
        }
      ],
      "source": [
        "# Create a random tensor\n",
        "random_tensor = torch.arange(0,10).reshape(2,5)\n",
        "random_tensor"
      ]
    },
    {
      "cell_type": "code",
      "execution_count": 71,
      "metadata": {
        "colab": {
          "base_uri": "https://localhost:8080/"
        },
        "id": "V41bXj9uC8DZ",
        "outputId": "e6fcf6dd-8962-4220-dc18-3afea979325a"
      },
      "outputs": [
        {
          "output_type": "execute_result",
          "data": {
            "text/plain": [
              "tensor([0, 1, 2, 3, 4])"
            ]
          },
          "metadata": {},
          "execution_count": 71
        }
      ],
      "source": [
        "# Acces the whole element of first row\n",
        "random_tensor[0]"
      ]
    },
    {
      "cell_type": "code",
      "execution_count": 72,
      "metadata": {
        "colab": {
          "base_uri": "https://localhost:8080/"
        },
        "id": "0YeORNXLDLaw",
        "outputId": "74682da9-c709-4341-ea7a-1902384cc286"
      },
      "outputs": [
        {
          "output_type": "execute_result",
          "data": {
            "text/plain": [
              "tensor([[3, 4],\n",
              "        [8, 9]])"
            ]
          },
          "metadata": {},
          "execution_count": 72
        }
      ],
      "source": [
        "# Access 3,4,8,9 from the tensor\n",
        "random_tensor[:,3:]"
      ]
    },
    {
      "cell_type": "code",
      "execution_count": 73,
      "metadata": {
        "colab": {
          "base_uri": "https://localhost:8080/"
        },
        "id": "5OrZb_6_Dm4v",
        "outputId": "8157d604-272e-48b3-cc24-9d98acadbde7"
      },
      "outputs": [
        {
          "output_type": "execute_result",
          "data": {
            "text/plain": [
              "tensor([[1, 3],\n",
              "        [6, 8]])"
            ]
          },
          "metadata": {},
          "execution_count": 73
        }
      ],
      "source": [
        "# Access 1,3,6,8\n",
        "random_tensor[:,1:4:2]"
      ]
    },
    {
      "cell_type": "code",
      "execution_count": 74,
      "metadata": {
        "colab": {
          "base_uri": "https://localhost:8080/"
        },
        "id": "3EmxpLxcD2oH",
        "outputId": "5f5508f0-dd36-4bb8-efdd-e4edc66b7425"
      },
      "outputs": [
        {
          "output_type": "stream",
          "name": "stderr",
          "text": [
            "<ipython-input-74-b6f8585da327>:2: UserWarning: torch.range is deprecated and will be removed in a future release because its behavior is inconsistent with Python's range builtin. Instead, use torch.arange, which produces values in [start, end).\n",
            "  random_tensor = torch.range(1,9).reshape(1,3,3)\n"
          ]
        },
        {
          "output_type": "execute_result",
          "data": {
            "text/plain": [
              "tensor([[[1., 2., 3.],\n",
              "         [4., 5., 6.],\n",
              "         [7., 8., 9.]]])"
            ]
          },
          "metadata": {},
          "execution_count": 74
        }
      ],
      "source": [
        "# creae a 3d random tensor\n",
        "random_tensor = torch.range(1,9).reshape(1,3,3)\n",
        "random_tensor"
      ]
    },
    {
      "cell_type": "code",
      "execution_count": 75,
      "metadata": {
        "colab": {
          "base_uri": "https://localhost:8080/"
        },
        "id": "XXHa5WqaI30W",
        "outputId": "c4c2301c-98f3-4de9-8870-e46ad7c27dd7"
      },
      "outputs": [
        {
          "output_type": "execute_result",
          "data": {
            "text/plain": [
              "tensor([[5., 6.],\n",
              "        [8., 9.]])"
            ]
          },
          "metadata": {},
          "execution_count": 75
        }
      ],
      "source": [
        "# Access 5,6,8,9\n",
        "random_tensor[0,1:,1:]"
      ]
    },
    {
      "cell_type": "code",
      "execution_count": 76,
      "metadata": {
        "colab": {
          "base_uri": "https://localhost:8080/"
        },
        "id": "ZRUQSdaRJiax",
        "outputId": "4d20144c-f24f-44f3-cfe3-d2a77760083d"
      },
      "outputs": [
        {
          "output_type": "execute_result",
          "data": {
            "text/plain": [
              "tensor([[[3.],\n",
              "         [6.],\n",
              "         [9.]]])"
            ]
          },
          "metadata": {},
          "execution_count": 76
        }
      ],
      "source": [
        "# Access 3,6,9\n",
        "random_tensor[:,:,2:]"
      ]
    },
    {
      "cell_type": "code",
      "execution_count": 77,
      "metadata": {
        "colab": {
          "base_uri": "https://localhost:8080/"
        },
        "id": "64o2m8EoKHm8",
        "outputId": "2382a585-0c3b-45cf-c174-605f17ae038b"
      },
      "outputs": [
        {
          "output_type": "execute_result",
          "data": {
            "text/plain": [
              "tensor([7., 8., 9.])"
            ]
          },
          "metadata": {},
          "execution_count": 77
        }
      ],
      "source": [
        "# Access 7,8,9\n",
        "random_tensor[0,-1]"
      ]
    },
    {
      "cell_type": "code",
      "execution_count": 78,
      "metadata": {
        "colab": {
          "base_uri": "https://localhost:8080/"
        },
        "id": "loQZj6OwKcO7",
        "outputId": "41651ea9-1dd9-40f9-c7e5-3027bb2280a4"
      },
      "outputs": [
        {
          "output_type": "execute_result",
          "data": {
            "text/plain": [
              "tensor([[4., 5., 6.]])"
            ]
          },
          "metadata": {},
          "execution_count": 78
        }
      ],
      "source": [
        "# We can use \":\" to select all elements of a target didmension\n",
        "random_tensor[:,1]"
      ]
    },
    {
      "cell_type": "code",
      "execution_count": 79,
      "metadata": {
        "colab": {
          "base_uri": "https://localhost:8080/"
        },
        "id": "1guL-w96JmMR",
        "outputId": "e0c9620c-ebab-484a-b46f-ab91d2493b83"
      },
      "outputs": [
        {
          "output_type": "execute_result",
          "data": {
            "text/plain": [
              "tensor([[2., 5., 8.]])"
            ]
          },
          "metadata": {},
          "execution_count": 79
        }
      ],
      "source": [
        "# Get all values of 0th and 1st dimension but only index 1 of second dimension\n",
        "random_tensor[:,:,1]"
      ]
    },
    {
      "cell_type": "code",
      "execution_count": 80,
      "metadata": {
        "colab": {
          "base_uri": "https://localhost:8080/"
        },
        "id": "p1vsSppAKTp5",
        "outputId": "03e586bb-7710-43c8-f0e2-4f527874563a"
      },
      "outputs": [
        {
          "output_type": "execute_result",
          "data": {
            "text/plain": [
              "tensor([1., 2., 3.])"
            ]
          },
          "metadata": {},
          "execution_count": 80
        }
      ],
      "source": [
        "# Get index 0 of 0th and 1st dimension and all values of the second dimension\n",
        "random_tensor[0,0,:]"
      ]
    },
    {
      "cell_type": "code",
      "execution_count": 81,
      "metadata": {
        "colab": {
          "base_uri": "https://localhost:8080/"
        },
        "id": "eLRpK0ozKtyB",
        "outputId": "f066b900-645c-41e6-db57-9db097b5057d"
      },
      "outputs": [
        {
          "output_type": "execute_result",
          "data": {
            "text/plain": [
              "tensor(9.)"
            ]
          },
          "metadata": {},
          "execution_count": 81
        }
      ],
      "source": [
        "# access 9 form the random tensor\n",
        "random_tensor[0,2,-1]"
      ]
    },
    {
      "cell_type": "markdown",
      "metadata": {
        "id": "72VM7lvOK_Qx"
      },
      "source": [
        "Pytorch and Numpy\n",
        "Numpy is a popular scientific python numerical computing library and because of this, putorch has functionality to interact with it.\n",
        "* Data in Numpy, want in PyTorch -> `torch.from_numpy(ndarray)`\n",
        "* PyTorch tensor to numpy array -> `torch.Tensor.numpy()`"
      ]
    },
    {
      "cell_type": "code",
      "execution_count": 82,
      "metadata": {
        "colab": {
          "base_uri": "https://localhost:8080/"
        },
        "id": "8h0CkD6yLHYQ",
        "outputId": "5ba774b2-53b7-4332-adb1-98ddc4ca35e0"
      },
      "outputs": [
        {
          "output_type": "execute_result",
          "data": {
            "text/plain": [
              "(array([1., 2., 3., 4., 5., 6., 7.]),\n",
              " tensor([1., 2., 3., 4., 5., 6., 7.], dtype=torch.float64))"
            ]
          },
          "metadata": {},
          "execution_count": 82
        }
      ],
      "source": [
        "# Numpy array to tensor\n",
        "import numpy as np\n",
        "array = np.arange(1.0,8.0)\n",
        "tensor = torch.from_numpy(array) # warning: When converting from numpy to pytorch, puytorch reflects numpy default datatype float 64 unless specified otherwise\n",
        "array, tensor"
      ]
    },
    {
      "cell_type": "code",
      "execution_count": 83,
      "metadata": {
        "colab": {
          "base_uri": "https://localhost:8080/"
        },
        "id": "UEbsRhzHMuYo",
        "outputId": "036c8d66-7cd7-4dde-d6cf-56bdd7d7b538"
      },
      "outputs": [
        {
          "output_type": "execute_result",
          "data": {
            "text/plain": [
              "dtype('float64')"
            ]
          },
          "metadata": {},
          "execution_count": 83
        }
      ],
      "source": [
        "array.dtype"
      ]
    },
    {
      "cell_type": "code",
      "execution_count": 84,
      "metadata": {
        "colab": {
          "base_uri": "https://localhost:8080/"
        },
        "id": "GS6wJHY2M2vQ",
        "outputId": "4f0da821-ce73-4d2a-f6a3-5d15b70508e4"
      },
      "outputs": [
        {
          "output_type": "execute_result",
          "data": {
            "text/plain": [
              "torch.float64"
            ]
          },
          "metadata": {},
          "execution_count": 84
        }
      ],
      "source": [
        "tensor.dtype"
      ]
    },
    {
      "cell_type": "code",
      "execution_count": 85,
      "metadata": {
        "colab": {
          "base_uri": "https://localhost:8080/"
        },
        "id": "_YPbyDzFM5Op",
        "outputId": "36a5969a-e1bd-4c0a-e69b-83e05bc24c42"
      },
      "outputs": [
        {
          "output_type": "execute_result",
          "data": {
            "text/plain": [
              "torch.float32"
            ]
          },
          "metadata": {},
          "execution_count": 85
        }
      ],
      "source": [
        "torch.arange(1.0,8.0).dtype"
      ]
    },
    {
      "cell_type": "code",
      "execution_count": 86,
      "metadata": {
        "colab": {
          "base_uri": "https://localhost:8080/"
        },
        "id": "ZMv5A9AqNNQJ",
        "outputId": "c51dee8f-ee9b-4098-dcf4-e767f8dc537f"
      },
      "outputs": [
        {
          "output_type": "execute_result",
          "data": {
            "text/plain": [
              "(array([2., 3., 4., 5., 6., 7., 8.]),\n",
              " tensor([1., 2., 3., 4., 5., 6., 7.], dtype=torch.float64))"
            ]
          },
          "metadata": {},
          "execution_count": 86
        }
      ],
      "source": [
        "# Change the value of array\n",
        "array = array+1\n",
        "array,tensor"
      ]
    },
    {
      "cell_type": "code",
      "execution_count": 87,
      "metadata": {
        "colab": {
          "base_uri": "https://localhost:8080/"
        },
        "id": "f3P5CYiYN0-Q",
        "outputId": "c5f55036-fdde-4929-87e5-2568d694a39c"
      },
      "outputs": [
        {
          "output_type": "execute_result",
          "data": {
            "text/plain": [
              "(tensor([1., 1., 1., 1., 1., 1., 1.]),\n",
              " array([1., 1., 1., 1., 1., 1., 1.], dtype=float32))"
            ]
          },
          "metadata": {},
          "execution_count": 87
        }
      ],
      "source": [
        "# Tensor to numpy\n",
        "tensor = torch.ones(7)\n",
        "numpy_tensor = tensor.numpy() # Notice that numpy has pytorch default datatype float32\n",
        "tensor,numpy_tensor"
      ]
    },
    {
      "cell_type": "code",
      "execution_count": 88,
      "metadata": {
        "colab": {
          "base_uri": "https://localhost:8080/"
        },
        "id": "sLGIFZbGOED4",
        "outputId": "aa4655aa-ac88-479b-f46a-48fea93750d3"
      },
      "outputs": [
        {
          "output_type": "execute_result",
          "data": {
            "text/plain": [
              "(tensor([2., 2., 2., 2., 2., 2., 2.]),\n",
              " array([1., 1., 1., 1., 1., 1., 1.], dtype=float32))"
            ]
          },
          "metadata": {},
          "execution_count": 88
        }
      ],
      "source": [
        "# change the tensor what happens to numpy_tensro?\n",
        "tensor = tensor + 1\n",
        "tensor,numpy_tensor"
      ]
    },
    {
      "cell_type": "markdown",
      "metadata": {
        "id": "CriN9HlkOPr4"
      },
      "source": [
        "PyTorch Reproducibility\n",
        "To reduce the randomness there is a concept ** random seed**. Essentially what the random seed does it picks consistent random value."
      ]
    },
    {
      "cell_type": "code",
      "execution_count": 89,
      "metadata": {
        "colab": {
          "base_uri": "https://localhost:8080/"
        },
        "id": "OBwcAwDpOkUP",
        "outputId": "8aa404a3-464a-479a-d270-8423961de20b"
      },
      "outputs": [
        {
          "output_type": "execute_result",
          "data": {
            "text/plain": [
              "tensor([[0.6960, 0.1711, 0.0223],\n",
              "        [0.7595, 0.2575, 0.7002],\n",
              "        [0.0977, 0.6600, 0.3059]])"
            ]
          },
          "metadata": {},
          "execution_count": 89
        }
      ],
      "source": [
        "torch.rand(3,3)"
      ]
    },
    {
      "cell_type": "code",
      "execution_count": 90,
      "metadata": {
        "colab": {
          "base_uri": "https://localhost:8080/"
        },
        "id": "5H7mIlFDOnhJ",
        "outputId": "2517856a-cd1c-45f7-d3a8-7db7550634ea"
      },
      "outputs": [
        {
          "output_type": "stream",
          "name": "stdout",
          "text": [
            "tensor([[0.2123, 0.4253, 0.2744, 0.1903],\n",
            "        [0.4434, 0.4072, 0.9908, 0.8689],\n",
            "        [0.6074, 0.7446, 0.8534, 0.3491]])\n",
            "tensor([[0.8645, 0.9914, 0.7463, 0.5761],\n",
            "        [0.4241, 0.1114, 0.7628, 0.9913],\n",
            "        [0.9916, 0.1494, 0.3837, 0.9392]])\n",
            "tensor([[False, False, False, False],\n",
            "        [False, False, False, False],\n",
            "        [False, False, False, False]])\n"
          ]
        }
      ],
      "source": [
        "# create two random tensor\n",
        "random_tensor_A = torch.rand(3,4)\n",
        "random_tensor_B = torch.rand(3,4)\n",
        "print(random_tensor_A)\n",
        "print(random_tensor_B)\n",
        "print(random_tensor_A == random_tensor_B)"
      ]
    },
    {
      "cell_type": "code",
      "execution_count": 91,
      "metadata": {
        "colab": {
          "base_uri": "https://localhost:8080/"
        },
        "id": "OLTr6tZ8PZxR",
        "outputId": "6e628898-11ab-4360-bd23-d32f3590441f"
      },
      "outputs": [
        {
          "output_type": "stream",
          "name": "stdout",
          "text": [
            "tensor([[0.8823, 0.9150, 0.3829, 0.9593],\n",
            "        [0.3904, 0.6009, 0.2566, 0.7936],\n",
            "        [0.9408, 0.1332, 0.9346, 0.5936]])\n",
            "tensor([[0.8823, 0.9150, 0.3829, 0.9593],\n",
            "        [0.3904, 0.6009, 0.2566, 0.7936],\n",
            "        [0.9408, 0.1332, 0.9346, 0.5936]])\n",
            "tensor([[True, True, True, True],\n",
            "        [True, True, True, True],\n",
            "        [True, True, True, True]])\n"
          ]
        }
      ],
      "source": [
        "# Lets make some random tensor but reproducible\n",
        "# Set the random ssed\n",
        "Random_Seed = 42\n",
        "torch.manual_seed(Random_Seed)\n",
        "random_tensor_C = torch.rand(3,4)\n",
        "torch.manual_seed(Random_Seed)\n",
        "random_tensor_D = torch.rand(3,4)\n",
        "print(random_tensor_C)\n",
        "print(random_tensor_D)\n",
        "print(random_tensor_C == random_tensor_D)"
      ]
    },
    {
      "cell_type": "code",
      "source": [
        "!nvidia-smi"
      ],
      "metadata": {
        "colab": {
          "base_uri": "https://localhost:8080/"
        },
        "id": "qC59Xs9XRlwB",
        "outputId": "21bf4464-2e23-44c3-8d0b-dfc881947855"
      },
      "execution_count": 92,
      "outputs": [
        {
          "output_type": "stream",
          "name": "stdout",
          "text": [
            "Sat Dec 24 07:13:37 2022       \n",
            "+-----------------------------------------------------------------------------+\n",
            "| NVIDIA-SMI 460.32.03    Driver Version: 460.32.03    CUDA Version: 11.2     |\n",
            "|-------------------------------+----------------------+----------------------+\n",
            "| GPU  Name        Persistence-M| Bus-Id        Disp.A | Volatile Uncorr. ECC |\n",
            "| Fan  Temp  Perf  Pwr:Usage/Cap|         Memory-Usage | GPU-Util  Compute M. |\n",
            "|                               |                      |               MIG M. |\n",
            "|===============================+======================+======================|\n",
            "|   0  Tesla T4            Off  | 00000000:00:04.0 Off |                    0 |\n",
            "| N/A   70C    P0    30W /  70W |      0MiB / 15109MiB |      0%      Default |\n",
            "|                               |                      |                  N/A |\n",
            "+-------------------------------+----------------------+----------------------+\n",
            "                                                                               \n",
            "+-----------------------------------------------------------------------------+\n",
            "| Processes:                                                                  |\n",
            "|  GPU   GI   CI        PID   Type   Process name                  GPU Memory |\n",
            "|        ID   ID                                                   Usage      |\n",
            "|=============================================================================|\n",
            "|  No running processes found                                                 |\n",
            "+-----------------------------------------------------------------------------+\n"
          ]
        }
      ]
    },
    {
      "cell_type": "code",
      "source": [
        "# Check GPU acces with pytorch\n",
        "torch.cuda.is_available()  # True means we have accese to cuda gpu"
      ],
      "metadata": {
        "id": "XUmiVXqSC00I",
        "colab": {
          "base_uri": "https://localhost:8080/"
        },
        "outputId": "1dba8b45-6f39-4103-c5ee-e91a9b190e81"
      },
      "execution_count": 93,
      "outputs": [
        {
          "output_type": "execute_result",
          "data": {
            "text/plain": [
              "True"
            ]
          },
          "metadata": {},
          "execution_count": 93
        }
      ]
    },
    {
      "cell_type": "code",
      "source": [
        "# Set up device agnostic code\n",
        "device = \"cuda\" if torch.cuda.is_available() else \"cpu\"\n",
        "device"
      ],
      "metadata": {
        "colab": {
          "base_uri": "https://localhost:8080/",
          "height": 36
        },
        "id": "sf55fw3e_Vku",
        "outputId": "c573e0f1-4f82-4ffa-9b23-bdc5950728f0"
      },
      "execution_count": 95,
      "outputs": [
        {
          "output_type": "execute_result",
          "data": {
            "text/plain": [
              "'cuda'"
            ],
            "application/vnd.google.colaboratory.intrinsic+json": {
              "type": "string"
            }
          },
          "metadata": {},
          "execution_count": 95
        }
      ]
    },
    {
      "cell_type": "code",
      "source": [
        "# Count the number of gpu\n",
        "torch.cuda.device_count()"
      ],
      "metadata": {
        "colab": {
          "base_uri": "https://localhost:8080/"
        },
        "id": "V9x4LfGR_mnH",
        "outputId": "35062966-c0c3-436d-a87a-029abb60c930"
      },
      "execution_count": 96,
      "outputs": [
        {
          "output_type": "execute_result",
          "data": {
            "text/plain": [
              "1"
            ]
          },
          "metadata": {},
          "execution_count": 96
        }
      ]
    },
    {
      "cell_type": "markdown",
      "source": [
        "PyTorch is capable of runnig on gpu and cpu so it is better to setup device adgnostic code\n",
        "E.g. Run on gpu if it is available otherwise run on cpu"
      ],
      "metadata": {
        "id": "Mo5Tvxuf_2X3"
      }
    },
    {
      "cell_type": "code",
      "source": [
        "# Create a tensor default on cpu\n",
        "tensor = torch.tensor([1,3,4])\n",
        "print(tensor,tensor.device)"
      ],
      "metadata": {
        "colab": {
          "base_uri": "https://localhost:8080/"
        },
        "id": "s5GKdX15AYxw",
        "outputId": "a5ca023a-08a7-4c59-91ce-ad8100301015"
      },
      "execution_count": 97,
      "outputs": [
        {
          "output_type": "stream",
          "name": "stdout",
          "text": [
            "tensor([1, 3, 4]) cpu\n"
          ]
        }
      ]
    },
    {
      "cell_type": "code",
      "source": [
        "# Move tensor to gpu if it is avialable\n",
        "tensor_on_gpu = tensor.to(device)\n",
        "tensor_on_gpu"
      ],
      "metadata": {
        "colab": {
          "base_uri": "https://localhost:8080/"
        },
        "id": "tDr3V_bNAqIX",
        "outputId": "ffe65b47-d3b3-425c-b12c-8a514cb58f6f"
      },
      "execution_count": 98,
      "outputs": [
        {
          "output_type": "execute_result",
          "data": {
            "text/plain": [
              "tensor([1, 3, 4], device='cuda:0')"
            ]
          },
          "metadata": {},
          "execution_count": 98
        }
      ]
    },
    {
      "cell_type": "code",
      "source": [
        "## Move tensor back to cpu\n",
        "tensor_on_gpu.numpy() # This throw an error becuase numpy doesnt work on gpu"
      ],
      "metadata": {
        "colab": {
          "base_uri": "https://localhost:8080/",
          "height": 205
        },
        "id": "198MtFwoBAcH",
        "outputId": "23cbcf06-98ec-446f-c553-07e5a90cc082"
      },
      "execution_count": 99,
      "outputs": [
        {
          "output_type": "error",
          "ename": "TypeError",
          "evalue": "ignored",
          "traceback": [
            "\u001b[0;31m---------------------------------------------------------------------------\u001b[0m",
            "\u001b[0;31mTypeError\u001b[0m                                 Traceback (most recent call last)",
            "\u001b[0;32m<ipython-input-99-824fb2d429ba>\u001b[0m in \u001b[0;36m<module>\u001b[0;34m\u001b[0m\n\u001b[1;32m      1\u001b[0m \u001b[0;31m## Move tensor back to cpu\u001b[0m\u001b[0;34m\u001b[0m\u001b[0;34m\u001b[0m\u001b[0;34m\u001b[0m\u001b[0m\n\u001b[0;32m----> 2\u001b[0;31m \u001b[0mtensor_on_gpu\u001b[0m\u001b[0;34m.\u001b[0m\u001b[0mnumpy\u001b[0m\u001b[0;34m(\u001b[0m\u001b[0;34m)\u001b[0m\u001b[0;34m\u001b[0m\u001b[0;34m\u001b[0m\u001b[0m\n\u001b[0m",
            "\u001b[0;31mTypeError\u001b[0m: can't convert cuda:0 device type tensor to numpy. Use Tensor.cpu() to copy the tensor to host memory first."
          ]
        }
      ]
    },
    {
      "cell_type": "code",
      "source": [
        "# First set the tensor on cpu to use it in numpy\n",
        "tensor_on_cpu = tensor_on_gpu.cpu().numpy()\n",
        "tensor_on_cpu"
      ],
      "metadata": {
        "colab": {
          "base_uri": "https://localhost:8080/"
        },
        "id": "rPBjeHdVBLvf",
        "outputId": "b3ec5070-a4e4-407a-b399-c207a3f3336a"
      },
      "execution_count": 102,
      "outputs": [
        {
          "output_type": "execute_result",
          "data": {
            "text/plain": [
              "array([1, 3, 4])"
            ]
          },
          "metadata": {},
          "execution_count": 102
        }
      ]
    },
    {
      "cell_type": "code",
      "source": [
        "# Note that tensor on gpu is unchanged\n",
        "tensor_on_gpu"
      ],
      "metadata": {
        "colab": {
          "base_uri": "https://localhost:8080/"
        },
        "id": "zeMqU5S7BgfP",
        "outputId": "51b2e4b2-25b9-451c-a47c-36e08046562e"
      },
      "execution_count": 103,
      "outputs": [
        {
          "output_type": "execute_result",
          "data": {
            "text/plain": [
              "tensor([1, 3, 4], device='cuda:0')"
            ]
          },
          "metadata": {},
          "execution_count": 103
        }
      ]
    },
    {
      "cell_type": "code",
      "source": [],
      "metadata": {
        "id": "E98GQXzMBm5_"
      },
      "execution_count": null,
      "outputs": []
    }
  ],
  "metadata": {
    "accelerator": "GPU",
    "colab": {
      "provenance": []
    },
    "gpuClass": "standard",
    "kernelspec": {
      "display_name": "Python 3",
      "name": "python3"
    },
    "language_info": {
      "name": "python"
    }
  },
  "nbformat": 4,
  "nbformat_minor": 0
}